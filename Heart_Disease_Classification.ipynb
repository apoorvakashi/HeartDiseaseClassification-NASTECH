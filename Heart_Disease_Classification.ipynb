{
  "nbformat": 4,
  "nbformat_minor": 0,
  "metadata": {
    "colab": {
      "name": "Heart Disease Classification.ipynb",
      "provenance": [],
      "authorship_tag": "ABX9TyODeUTlwechecgDAkK3ojaR",
      "include_colab_link": true
    },
    "kernelspec": {
      "name": "python3",
      "display_name": "Python 3"
    },
    "language_info": {
      "name": "python"
    }
  },
  "cells": [
    {
      "cell_type": "markdown",
      "metadata": {
        "id": "view-in-github",
        "colab_type": "text"
      },
      "source": [
        "<a href=\"https://colab.research.google.com/github/apoorvakashi/HeartDiseaseClassification-NASTECH/blob/main/Heart_Disease_Classification.ipynb\" target=\"_parent\"><img src=\"https://colab.research.google.com/assets/colab-badge.svg\" alt=\"Open In Colab\"/></a>"
      ]
    },
    {
      "cell_type": "code",
      "metadata": {
        "id": "FPBgvjBv_Uc3"
      },
      "source": [
        "import pandas as pd\n",
        "import matplotlib.pyplot as plt\n"
      ],
      "execution_count": 1,
      "outputs": []
    },
    {
      "cell_type": "code",
      "metadata": {
        "id": "I2ihQ00AALD9"
      },
      "source": [
        "df = pd.read_csv('/content/heart.csv')"
      ],
      "execution_count": 12,
      "outputs": []
    },
    {
      "cell_type": "code",
      "metadata": {
        "colab": {
          "base_uri": "https://localhost:8080/",
          "height": 206
        },
        "id": "s8HEvTTgAZaR",
        "outputId": "eebb527f-1b90-4f15-d836-cc939d408219"
      },
      "source": [
        "df.head()"
      ],
      "execution_count": 13,
      "outputs": [
        {
          "output_type": "execute_result",
          "data": {
            "text/html": [
              "<div>\n",
              "<style scoped>\n",
              "    .dataframe tbody tr th:only-of-type {\n",
              "        vertical-align: middle;\n",
              "    }\n",
              "\n",
              "    .dataframe tbody tr th {\n",
              "        vertical-align: top;\n",
              "    }\n",
              "\n",
              "    .dataframe thead th {\n",
              "        text-align: right;\n",
              "    }\n",
              "</style>\n",
              "<table border=\"1\" class=\"dataframe\">\n",
              "  <thead>\n",
              "    <tr style=\"text-align: right;\">\n",
              "      <th></th>\n",
              "      <th>age</th>\n",
              "      <th>sex</th>\n",
              "      <th>cp</th>\n",
              "      <th>trestbps</th>\n",
              "      <th>chol</th>\n",
              "      <th>fbs</th>\n",
              "      <th>restecg</th>\n",
              "      <th>thalach</th>\n",
              "      <th>exang</th>\n",
              "      <th>oldpeak</th>\n",
              "      <th>slope</th>\n",
              "      <th>ca</th>\n",
              "      <th>thal</th>\n",
              "      <th>target</th>\n",
              "    </tr>\n",
              "  </thead>\n",
              "  <tbody>\n",
              "    <tr>\n",
              "      <th>0</th>\n",
              "      <td>63</td>\n",
              "      <td>1</td>\n",
              "      <td>3</td>\n",
              "      <td>145</td>\n",
              "      <td>233</td>\n",
              "      <td>1</td>\n",
              "      <td>0</td>\n",
              "      <td>150</td>\n",
              "      <td>0</td>\n",
              "      <td>2.3</td>\n",
              "      <td>0</td>\n",
              "      <td>0</td>\n",
              "      <td>1</td>\n",
              "      <td>1</td>\n",
              "    </tr>\n",
              "    <tr>\n",
              "      <th>1</th>\n",
              "      <td>37</td>\n",
              "      <td>1</td>\n",
              "      <td>2</td>\n",
              "      <td>130</td>\n",
              "      <td>250</td>\n",
              "      <td>0</td>\n",
              "      <td>1</td>\n",
              "      <td>187</td>\n",
              "      <td>0</td>\n",
              "      <td>3.5</td>\n",
              "      <td>0</td>\n",
              "      <td>0</td>\n",
              "      <td>2</td>\n",
              "      <td>1</td>\n",
              "    </tr>\n",
              "    <tr>\n",
              "      <th>2</th>\n",
              "      <td>41</td>\n",
              "      <td>0</td>\n",
              "      <td>1</td>\n",
              "      <td>130</td>\n",
              "      <td>204</td>\n",
              "      <td>0</td>\n",
              "      <td>0</td>\n",
              "      <td>172</td>\n",
              "      <td>0</td>\n",
              "      <td>1.4</td>\n",
              "      <td>2</td>\n",
              "      <td>0</td>\n",
              "      <td>2</td>\n",
              "      <td>1</td>\n",
              "    </tr>\n",
              "    <tr>\n",
              "      <th>3</th>\n",
              "      <td>56</td>\n",
              "      <td>1</td>\n",
              "      <td>1</td>\n",
              "      <td>120</td>\n",
              "      <td>236</td>\n",
              "      <td>0</td>\n",
              "      <td>1</td>\n",
              "      <td>178</td>\n",
              "      <td>0</td>\n",
              "      <td>0.8</td>\n",
              "      <td>2</td>\n",
              "      <td>0</td>\n",
              "      <td>2</td>\n",
              "      <td>1</td>\n",
              "    </tr>\n",
              "    <tr>\n",
              "      <th>4</th>\n",
              "      <td>57</td>\n",
              "      <td>0</td>\n",
              "      <td>0</td>\n",
              "      <td>120</td>\n",
              "      <td>354</td>\n",
              "      <td>0</td>\n",
              "      <td>1</td>\n",
              "      <td>163</td>\n",
              "      <td>1</td>\n",
              "      <td>0.6</td>\n",
              "      <td>2</td>\n",
              "      <td>0</td>\n",
              "      <td>2</td>\n",
              "      <td>1</td>\n",
              "    </tr>\n",
              "  </tbody>\n",
              "</table>\n",
              "</div>"
            ],
            "text/plain": [
              "   age  sex  cp  trestbps  chol  fbs  ...  exang  oldpeak  slope  ca  thal  target\n",
              "0   63    1   3       145   233    1  ...      0      2.3      0   0     1       1\n",
              "1   37    1   2       130   250    0  ...      0      3.5      0   0     2       1\n",
              "2   41    0   1       130   204    0  ...      0      1.4      2   0     2       1\n",
              "3   56    1   1       120   236    0  ...      0      0.8      2   0     2       1\n",
              "4   57    0   0       120   354    0  ...      1      0.6      2   0     2       1\n",
              "\n",
              "[5 rows x 14 columns]"
            ]
          },
          "metadata": {},
          "execution_count": 13
        }
      ]
    },
    {
      "cell_type": "code",
      "metadata": {
        "id": "QyWy0Rxx1e9x"
      },
      "source": [
        "df.columns = ['age', 'sex', 'cp','trestbps', 'chol', 'fbs','restecg', 'thalach','exang', 'oldpeak','slope','ca','thal','target']"
      ],
      "execution_count": 14,
      "outputs": []
    },
    {
      "cell_type": "code",
      "metadata": {
        "colab": {
          "base_uri": "https://localhost:8080/",
          "height": 206
        },
        "id": "91h2Cgzj143A",
        "outputId": "edd52c3f-55fe-4ccd-ba20-218484c43097"
      },
      "source": [
        "df.head()"
      ],
      "execution_count": 15,
      "outputs": [
        {
          "output_type": "execute_result",
          "data": {
            "text/html": [
              "<div>\n",
              "<style scoped>\n",
              "    .dataframe tbody tr th:only-of-type {\n",
              "        vertical-align: middle;\n",
              "    }\n",
              "\n",
              "    .dataframe tbody tr th {\n",
              "        vertical-align: top;\n",
              "    }\n",
              "\n",
              "    .dataframe thead th {\n",
              "        text-align: right;\n",
              "    }\n",
              "</style>\n",
              "<table border=\"1\" class=\"dataframe\">\n",
              "  <thead>\n",
              "    <tr style=\"text-align: right;\">\n",
              "      <th></th>\n",
              "      <th>age</th>\n",
              "      <th>sex</th>\n",
              "      <th>cp</th>\n",
              "      <th>trestbps</th>\n",
              "      <th>chol</th>\n",
              "      <th>fbs</th>\n",
              "      <th>restecg</th>\n",
              "      <th>thalach</th>\n",
              "      <th>exang</th>\n",
              "      <th>oldpeak</th>\n",
              "      <th>slope</th>\n",
              "      <th>ca</th>\n",
              "      <th>thal</th>\n",
              "      <th>target</th>\n",
              "    </tr>\n",
              "  </thead>\n",
              "  <tbody>\n",
              "    <tr>\n",
              "      <th>0</th>\n",
              "      <td>63</td>\n",
              "      <td>1</td>\n",
              "      <td>3</td>\n",
              "      <td>145</td>\n",
              "      <td>233</td>\n",
              "      <td>1</td>\n",
              "      <td>0</td>\n",
              "      <td>150</td>\n",
              "      <td>0</td>\n",
              "      <td>2.3</td>\n",
              "      <td>0</td>\n",
              "      <td>0</td>\n",
              "      <td>1</td>\n",
              "      <td>1</td>\n",
              "    </tr>\n",
              "    <tr>\n",
              "      <th>1</th>\n",
              "      <td>37</td>\n",
              "      <td>1</td>\n",
              "      <td>2</td>\n",
              "      <td>130</td>\n",
              "      <td>250</td>\n",
              "      <td>0</td>\n",
              "      <td>1</td>\n",
              "      <td>187</td>\n",
              "      <td>0</td>\n",
              "      <td>3.5</td>\n",
              "      <td>0</td>\n",
              "      <td>0</td>\n",
              "      <td>2</td>\n",
              "      <td>1</td>\n",
              "    </tr>\n",
              "    <tr>\n",
              "      <th>2</th>\n",
              "      <td>41</td>\n",
              "      <td>0</td>\n",
              "      <td>1</td>\n",
              "      <td>130</td>\n",
              "      <td>204</td>\n",
              "      <td>0</td>\n",
              "      <td>0</td>\n",
              "      <td>172</td>\n",
              "      <td>0</td>\n",
              "      <td>1.4</td>\n",
              "      <td>2</td>\n",
              "      <td>0</td>\n",
              "      <td>2</td>\n",
              "      <td>1</td>\n",
              "    </tr>\n",
              "    <tr>\n",
              "      <th>3</th>\n",
              "      <td>56</td>\n",
              "      <td>1</td>\n",
              "      <td>1</td>\n",
              "      <td>120</td>\n",
              "      <td>236</td>\n",
              "      <td>0</td>\n",
              "      <td>1</td>\n",
              "      <td>178</td>\n",
              "      <td>0</td>\n",
              "      <td>0.8</td>\n",
              "      <td>2</td>\n",
              "      <td>0</td>\n",
              "      <td>2</td>\n",
              "      <td>1</td>\n",
              "    </tr>\n",
              "    <tr>\n",
              "      <th>4</th>\n",
              "      <td>57</td>\n",
              "      <td>0</td>\n",
              "      <td>0</td>\n",
              "      <td>120</td>\n",
              "      <td>354</td>\n",
              "      <td>0</td>\n",
              "      <td>1</td>\n",
              "      <td>163</td>\n",
              "      <td>1</td>\n",
              "      <td>0.6</td>\n",
              "      <td>2</td>\n",
              "      <td>0</td>\n",
              "      <td>2</td>\n",
              "      <td>1</td>\n",
              "    </tr>\n",
              "  </tbody>\n",
              "</table>\n",
              "</div>"
            ],
            "text/plain": [
              "   age  sex  cp  trestbps  chol  fbs  ...  exang  oldpeak  slope  ca  thal  target\n",
              "0   63    1   3       145   233    1  ...      0      2.3      0   0     1       1\n",
              "1   37    1   2       130   250    0  ...      0      3.5      0   0     2       1\n",
              "2   41    0   1       130   204    0  ...      0      1.4      2   0     2       1\n",
              "3   56    1   1       120   236    0  ...      0      0.8      2   0     2       1\n",
              "4   57    0   0       120   354    0  ...      1      0.6      2   0     2       1\n",
              "\n",
              "[5 rows x 14 columns]"
            ]
          },
          "metadata": {},
          "execution_count": 15
        }
      ]
    },
    {
      "cell_type": "code",
      "metadata": {
        "colab": {
          "base_uri": "https://localhost:8080/"
        },
        "id": "xR6Yx8MW16NS",
        "outputId": "cdcabefb-3425-4929-8046-6608d9f46ea8"
      },
      "source": [
        "df['target'].value_counts()"
      ],
      "execution_count": 16,
      "outputs": [
        {
          "output_type": "execute_result",
          "data": {
            "text/plain": [
              "1    165\n",
              "0    138\n",
              "Name: target, dtype: int64"
            ]
          },
          "metadata": {},
          "execution_count": 16
        }
      ]
    },
    {
      "cell_type": "code",
      "metadata": {
        "colab": {
          "base_uri": "https://localhost:8080/"
        },
        "id": "XrngR5a52EUC",
        "outputId": "686105a8-a189-4329-c647-b11367cb5771"
      },
      "source": [
        "corr_matrix = df.corr()\n",
        "corr_matrix['target'].sort_values(ascending =False)"
      ],
      "execution_count": 17,
      "outputs": [
        {
          "output_type": "execute_result",
          "data": {
            "text/plain": [
              "target      1.000000\n",
              "cp          0.433798\n",
              "thalach     0.421741\n",
              "slope       0.345877\n",
              "restecg     0.137230\n",
              "fbs        -0.028046\n",
              "chol       -0.085239\n",
              "trestbps   -0.144931\n",
              "age        -0.225439\n",
              "sex        -0.280937\n",
              "thal       -0.344029\n",
              "ca         -0.391724\n",
              "oldpeak    -0.430696\n",
              "exang      -0.436757\n",
              "Name: target, dtype: float64"
            ]
          },
          "metadata": {},
          "execution_count": 17
        }
      ]
    },
    {
      "cell_type": "code",
      "metadata": {
        "colab": {
          "base_uri": "https://localhost:8080/"
        },
        "id": "7rbR3ObC2a5T",
        "outputId": "4c3da5f4-56e1-4e9b-e95d-7ad33b314297"
      },
      "source": [
        "df.info()"
      ],
      "execution_count": 18,
      "outputs": [
        {
          "output_type": "stream",
          "name": "stdout",
          "text": [
            "<class 'pandas.core.frame.DataFrame'>\n",
            "RangeIndex: 303 entries, 0 to 302\n",
            "Data columns (total 14 columns):\n",
            " #   Column    Non-Null Count  Dtype  \n",
            "---  ------    --------------  -----  \n",
            " 0   age       303 non-null    int64  \n",
            " 1   sex       303 non-null    int64  \n",
            " 2   cp        303 non-null    int64  \n",
            " 3   trestbps  303 non-null    int64  \n",
            " 4   chol      303 non-null    int64  \n",
            " 5   fbs       303 non-null    int64  \n",
            " 6   restecg   303 non-null    int64  \n",
            " 7   thalach   303 non-null    int64  \n",
            " 8   exang     303 non-null    int64  \n",
            " 9   oldpeak   303 non-null    float64\n",
            " 10  slope     303 non-null    int64  \n",
            " 11  ca        303 non-null    int64  \n",
            " 12  thal      303 non-null    int64  \n",
            " 13  target    303 non-null    int64  \n",
            "dtypes: float64(1), int64(13)\n",
            "memory usage: 33.3 KB\n"
          ]
        }
      ]
    },
    {
      "cell_type": "code",
      "metadata": {
        "colab": {
          "base_uri": "https://localhost:8080/"
        },
        "id": "5QsPfkXU2l_K",
        "outputId": "fd67d8be-7098-4d58-81a6-83659fc529c4"
      },
      "source": [
        "df.isnull().sum()"
      ],
      "execution_count": 19,
      "outputs": [
        {
          "output_type": "execute_result",
          "data": {
            "text/plain": [
              "age         0\n",
              "sex         0\n",
              "cp          0\n",
              "trestbps    0\n",
              "chol        0\n",
              "fbs         0\n",
              "restecg     0\n",
              "thalach     0\n",
              "exang       0\n",
              "oldpeak     0\n",
              "slope       0\n",
              "ca          0\n",
              "thal        0\n",
              "target      0\n",
              "dtype: int64"
            ]
          },
          "metadata": {},
          "execution_count": 19
        }
      ]
    },
    {
      "cell_type": "code",
      "metadata": {
        "id": "_6Y_6t7i21oI"
      },
      "source": [
        "import numpy as np\n",
        "\n",
        "import plotly.express as px\n",
        "import plotly.offline as py\n",
        "import matplotlib.pyplot as plt\n",
        "import seaborn as sns"
      ],
      "execution_count": 21,
      "outputs": []
    },
    {
      "cell_type": "code",
      "metadata": {
        "colab": {
          "base_uri": "https://localhost:8080/",
          "height": 542
        },
        "id": "Ujw-3ezv3JMr",
        "outputId": "31302c20-0c2c-483a-8cd2-3edbf7d298f5"
      },
      "source": [
        "px.pie(df, names='target')"
      ],
      "execution_count": 23,
      "outputs": [
        {
          "output_type": "display_data",
          "data": {
            "text/html": [
              "<html>\n",
              "<head><meta charset=\"utf-8\" /></head>\n",
              "<body>\n",
              "    <div>\n",
              "            <script src=\"https://cdnjs.cloudflare.com/ajax/libs/mathjax/2.7.5/MathJax.js?config=TeX-AMS-MML_SVG\"></script><script type=\"text/javascript\">if (window.MathJax) {MathJax.Hub.Config({SVG: {font: \"STIX-Web\"}});}</script>\n",
              "                <script type=\"text/javascript\">window.PlotlyConfig = {MathJaxConfig: 'local'};</script>\n",
              "        <script src=\"https://cdn.plot.ly/plotly-latest.min.js\"></script>    \n",
              "            <div id=\"cd7a4246-0292-408a-9fdb-aecc8503721a\" class=\"plotly-graph-div\" style=\"height:525px; width:100%;\"></div>\n",
              "            <script type=\"text/javascript\">\n",
              "                \n",
              "                    window.PLOTLYENV=window.PLOTLYENV || {};\n",
              "                    \n",
              "                if (document.getElementById(\"cd7a4246-0292-408a-9fdb-aecc8503721a\")) {\n",
              "                    Plotly.newPlot(\n",
              "                        'cd7a4246-0292-408a-9fdb-aecc8503721a',\n",
              "                        [{\"domain\": {\"x\": [0.0, 1.0], \"y\": [0.0, 1.0]}, \"hoverlabel\": {\"namelength\": 0}, \"hovertemplate\": \"target=%{label}\", \"labels\": [1, 1, 1, 1, 1, 1, 1, 1, 1, 1, 1, 1, 1, 1, 1, 1, 1, 1, 1, 1, 1, 1, 1, 1, 1, 1, 1, 1, 1, 1, 1, 1, 1, 1, 1, 1, 1, 1, 1, 1, 1, 1, 1, 1, 1, 1, 1, 1, 1, 1, 1, 1, 1, 1, 1, 1, 1, 1, 1, 1, 1, 1, 1, 1, 1, 1, 1, 1, 1, 1, 1, 1, 1, 1, 1, 1, 1, 1, 1, 1, 1, 1, 1, 1, 1, 1, 1, 1, 1, 1, 1, 1, 1, 1, 1, 1, 1, 1, 1, 1, 1, 1, 1, 1, 1, 1, 1, 1, 1, 1, 1, 1, 1, 1, 1, 1, 1, 1, 1, 1, 1, 1, 1, 1, 1, 1, 1, 1, 1, 1, 1, 1, 1, 1, 1, 1, 1, 1, 1, 1, 1, 1, 1, 1, 1, 1, 1, 1, 1, 1, 1, 1, 1, 1, 1, 1, 1, 1, 1, 1, 1, 1, 1, 1, 1, 0, 0, 0, 0, 0, 0, 0, 0, 0, 0, 0, 0, 0, 0, 0, 0, 0, 0, 0, 0, 0, 0, 0, 0, 0, 0, 0, 0, 0, 0, 0, 0, 0, 0, 0, 0, 0, 0, 0, 0, 0, 0, 0, 0, 0, 0, 0, 0, 0, 0, 0, 0, 0, 0, 0, 0, 0, 0, 0, 0, 0, 0, 0, 0, 0, 0, 0, 0, 0, 0, 0, 0, 0, 0, 0, 0, 0, 0, 0, 0, 0, 0, 0, 0, 0, 0, 0, 0, 0, 0, 0, 0, 0, 0, 0, 0, 0, 0, 0, 0, 0, 0, 0, 0, 0, 0, 0, 0, 0, 0, 0, 0, 0, 0, 0, 0, 0, 0, 0, 0, 0, 0, 0, 0, 0, 0, 0, 0, 0, 0, 0, 0, 0, 0, 0, 0, 0, 0], \"legendgroup\": \"\", \"name\": \"\", \"showlegend\": true, \"type\": \"pie\"}],\n",
              "                        {\"legend\": {\"tracegroupgap\": 0}, \"margin\": {\"t\": 60}, \"template\": {\"data\": {\"bar\": [{\"error_x\": {\"color\": \"#2a3f5f\"}, \"error_y\": {\"color\": \"#2a3f5f\"}, \"marker\": {\"line\": {\"color\": \"#E5ECF6\", \"width\": 0.5}}, \"type\": \"bar\"}], \"barpolar\": [{\"marker\": {\"line\": {\"color\": \"#E5ECF6\", \"width\": 0.5}}, \"type\": \"barpolar\"}], \"carpet\": [{\"aaxis\": {\"endlinecolor\": \"#2a3f5f\", \"gridcolor\": \"white\", \"linecolor\": \"white\", \"minorgridcolor\": \"white\", \"startlinecolor\": \"#2a3f5f\"}, \"baxis\": {\"endlinecolor\": \"#2a3f5f\", \"gridcolor\": \"white\", \"linecolor\": \"white\", \"minorgridcolor\": \"white\", \"startlinecolor\": \"#2a3f5f\"}, \"type\": \"carpet\"}], \"choropleth\": [{\"colorbar\": {\"outlinewidth\": 0, \"ticks\": \"\"}, \"type\": \"choropleth\"}], \"contour\": [{\"colorbar\": {\"outlinewidth\": 0, \"ticks\": \"\"}, \"colorscale\": [[0.0, \"#0d0887\"], [0.1111111111111111, \"#46039f\"], [0.2222222222222222, \"#7201a8\"], [0.3333333333333333, \"#9c179e\"], [0.4444444444444444, \"#bd3786\"], [0.5555555555555556, \"#d8576b\"], [0.6666666666666666, \"#ed7953\"], [0.7777777777777778, \"#fb9f3a\"], [0.8888888888888888, \"#fdca26\"], [1.0, \"#f0f921\"]], \"type\": \"contour\"}], \"contourcarpet\": [{\"colorbar\": {\"outlinewidth\": 0, \"ticks\": \"\"}, \"type\": \"contourcarpet\"}], \"heatmap\": [{\"colorbar\": {\"outlinewidth\": 0, \"ticks\": \"\"}, \"colorscale\": [[0.0, \"#0d0887\"], [0.1111111111111111, \"#46039f\"], [0.2222222222222222, \"#7201a8\"], [0.3333333333333333, \"#9c179e\"], [0.4444444444444444, \"#bd3786\"], [0.5555555555555556, \"#d8576b\"], [0.6666666666666666, \"#ed7953\"], [0.7777777777777778, \"#fb9f3a\"], [0.8888888888888888, \"#fdca26\"], [1.0, \"#f0f921\"]], \"type\": \"heatmap\"}], \"heatmapgl\": [{\"colorbar\": {\"outlinewidth\": 0, \"ticks\": \"\"}, \"colorscale\": [[0.0, \"#0d0887\"], [0.1111111111111111, \"#46039f\"], [0.2222222222222222, \"#7201a8\"], [0.3333333333333333, \"#9c179e\"], [0.4444444444444444, \"#bd3786\"], [0.5555555555555556, \"#d8576b\"], [0.6666666666666666, \"#ed7953\"], [0.7777777777777778, \"#fb9f3a\"], [0.8888888888888888, \"#fdca26\"], [1.0, \"#f0f921\"]], \"type\": \"heatmapgl\"}], \"histogram\": [{\"marker\": {\"colorbar\": {\"outlinewidth\": 0, \"ticks\": \"\"}}, \"type\": \"histogram\"}], \"histogram2d\": [{\"colorbar\": {\"outlinewidth\": 0, \"ticks\": \"\"}, \"colorscale\": [[0.0, \"#0d0887\"], [0.1111111111111111, \"#46039f\"], [0.2222222222222222, \"#7201a8\"], [0.3333333333333333, \"#9c179e\"], [0.4444444444444444, \"#bd3786\"], [0.5555555555555556, \"#d8576b\"], [0.6666666666666666, \"#ed7953\"], [0.7777777777777778, \"#fb9f3a\"], [0.8888888888888888, \"#fdca26\"], [1.0, \"#f0f921\"]], \"type\": \"histogram2d\"}], \"histogram2dcontour\": [{\"colorbar\": {\"outlinewidth\": 0, \"ticks\": \"\"}, \"colorscale\": [[0.0, \"#0d0887\"], [0.1111111111111111, \"#46039f\"], [0.2222222222222222, \"#7201a8\"], [0.3333333333333333, \"#9c179e\"], [0.4444444444444444, \"#bd3786\"], [0.5555555555555556, \"#d8576b\"], [0.6666666666666666, \"#ed7953\"], [0.7777777777777778, \"#fb9f3a\"], [0.8888888888888888, \"#fdca26\"], [1.0, \"#f0f921\"]], \"type\": \"histogram2dcontour\"}], \"mesh3d\": [{\"colorbar\": {\"outlinewidth\": 0, \"ticks\": \"\"}, \"type\": \"mesh3d\"}], \"parcoords\": [{\"line\": {\"colorbar\": {\"outlinewidth\": 0, \"ticks\": \"\"}}, \"type\": \"parcoords\"}], \"pie\": [{\"automargin\": true, \"type\": \"pie\"}], \"scatter\": [{\"marker\": {\"colorbar\": {\"outlinewidth\": 0, \"ticks\": \"\"}}, \"type\": \"scatter\"}], \"scatter3d\": [{\"line\": {\"colorbar\": {\"outlinewidth\": 0, \"ticks\": \"\"}}, \"marker\": {\"colorbar\": {\"outlinewidth\": 0, \"ticks\": \"\"}}, \"type\": \"scatter3d\"}], \"scattercarpet\": [{\"marker\": {\"colorbar\": {\"outlinewidth\": 0, \"ticks\": \"\"}}, \"type\": \"scattercarpet\"}], \"scattergeo\": [{\"marker\": {\"colorbar\": {\"outlinewidth\": 0, \"ticks\": \"\"}}, \"type\": \"scattergeo\"}], \"scattergl\": [{\"marker\": {\"colorbar\": {\"outlinewidth\": 0, \"ticks\": \"\"}}, \"type\": \"scattergl\"}], \"scattermapbox\": [{\"marker\": {\"colorbar\": {\"outlinewidth\": 0, \"ticks\": \"\"}}, \"type\": \"scattermapbox\"}], \"scatterpolar\": [{\"marker\": {\"colorbar\": {\"outlinewidth\": 0, \"ticks\": \"\"}}, \"type\": \"scatterpolar\"}], \"scatterpolargl\": [{\"marker\": {\"colorbar\": {\"outlinewidth\": 0, \"ticks\": \"\"}}, \"type\": \"scatterpolargl\"}], \"scatterternary\": [{\"marker\": {\"colorbar\": {\"outlinewidth\": 0, \"ticks\": \"\"}}, \"type\": \"scatterternary\"}], \"surface\": [{\"colorbar\": {\"outlinewidth\": 0, \"ticks\": \"\"}, \"colorscale\": [[0.0, \"#0d0887\"], [0.1111111111111111, \"#46039f\"], [0.2222222222222222, \"#7201a8\"], [0.3333333333333333, \"#9c179e\"], [0.4444444444444444, \"#bd3786\"], [0.5555555555555556, \"#d8576b\"], [0.6666666666666666, \"#ed7953\"], [0.7777777777777778, \"#fb9f3a\"], [0.8888888888888888, \"#fdca26\"], [1.0, \"#f0f921\"]], \"type\": \"surface\"}], \"table\": [{\"cells\": {\"fill\": {\"color\": \"#EBF0F8\"}, \"line\": {\"color\": \"white\"}}, \"header\": {\"fill\": {\"color\": \"#C8D4E3\"}, \"line\": {\"color\": \"white\"}}, \"type\": \"table\"}]}, \"layout\": {\"annotationdefaults\": {\"arrowcolor\": \"#2a3f5f\", \"arrowhead\": 0, \"arrowwidth\": 1}, \"coloraxis\": {\"colorbar\": {\"outlinewidth\": 0, \"ticks\": \"\"}}, \"colorscale\": {\"diverging\": [[0, \"#8e0152\"], [0.1, \"#c51b7d\"], [0.2, \"#de77ae\"], [0.3, \"#f1b6da\"], [0.4, \"#fde0ef\"], [0.5, \"#f7f7f7\"], [0.6, \"#e6f5d0\"], [0.7, \"#b8e186\"], [0.8, \"#7fbc41\"], [0.9, \"#4d9221\"], [1, \"#276419\"]], \"sequential\": [[0.0, \"#0d0887\"], [0.1111111111111111, \"#46039f\"], [0.2222222222222222, \"#7201a8\"], [0.3333333333333333, \"#9c179e\"], [0.4444444444444444, \"#bd3786\"], [0.5555555555555556, \"#d8576b\"], [0.6666666666666666, \"#ed7953\"], [0.7777777777777778, \"#fb9f3a\"], [0.8888888888888888, \"#fdca26\"], [1.0, \"#f0f921\"]], \"sequentialminus\": [[0.0, \"#0d0887\"], [0.1111111111111111, \"#46039f\"], [0.2222222222222222, \"#7201a8\"], [0.3333333333333333, \"#9c179e\"], [0.4444444444444444, \"#bd3786\"], [0.5555555555555556, \"#d8576b\"], [0.6666666666666666, \"#ed7953\"], [0.7777777777777778, \"#fb9f3a\"], [0.8888888888888888, \"#fdca26\"], [1.0, \"#f0f921\"]]}, \"colorway\": [\"#636efa\", \"#EF553B\", \"#00cc96\", \"#ab63fa\", \"#FFA15A\", \"#19d3f3\", \"#FF6692\", \"#B6E880\", \"#FF97FF\", \"#FECB52\"], \"font\": {\"color\": \"#2a3f5f\"}, \"geo\": {\"bgcolor\": \"white\", \"lakecolor\": \"white\", \"landcolor\": \"#E5ECF6\", \"showlakes\": true, \"showland\": true, \"subunitcolor\": \"white\"}, \"hoverlabel\": {\"align\": \"left\"}, \"hovermode\": \"closest\", \"mapbox\": {\"style\": \"light\"}, \"paper_bgcolor\": \"white\", \"plot_bgcolor\": \"#E5ECF6\", \"polar\": {\"angularaxis\": {\"gridcolor\": \"white\", \"linecolor\": \"white\", \"ticks\": \"\"}, \"bgcolor\": \"#E5ECF6\", \"radialaxis\": {\"gridcolor\": \"white\", \"linecolor\": \"white\", \"ticks\": \"\"}}, \"scene\": {\"xaxis\": {\"backgroundcolor\": \"#E5ECF6\", \"gridcolor\": \"white\", \"gridwidth\": 2, \"linecolor\": \"white\", \"showbackground\": true, \"ticks\": \"\", \"zerolinecolor\": \"white\"}, \"yaxis\": {\"backgroundcolor\": \"#E5ECF6\", \"gridcolor\": \"white\", \"gridwidth\": 2, \"linecolor\": \"white\", \"showbackground\": true, \"ticks\": \"\", \"zerolinecolor\": \"white\"}, \"zaxis\": {\"backgroundcolor\": \"#E5ECF6\", \"gridcolor\": \"white\", \"gridwidth\": 2, \"linecolor\": \"white\", \"showbackground\": true, \"ticks\": \"\", \"zerolinecolor\": \"white\"}}, \"shapedefaults\": {\"line\": {\"color\": \"#2a3f5f\"}}, \"ternary\": {\"aaxis\": {\"gridcolor\": \"white\", \"linecolor\": \"white\", \"ticks\": \"\"}, \"baxis\": {\"gridcolor\": \"white\", \"linecolor\": \"white\", \"ticks\": \"\"}, \"bgcolor\": \"#E5ECF6\", \"caxis\": {\"gridcolor\": \"white\", \"linecolor\": \"white\", \"ticks\": \"\"}}, \"title\": {\"x\": 0.05}, \"xaxis\": {\"automargin\": true, \"gridcolor\": \"white\", \"linecolor\": \"white\", \"ticks\": \"\", \"title\": {\"standoff\": 15}, \"zerolinecolor\": \"white\", \"zerolinewidth\": 2}, \"yaxis\": {\"automargin\": true, \"gridcolor\": \"white\", \"linecolor\": \"white\", \"ticks\": \"\", \"title\": {\"standoff\": 15}, \"zerolinecolor\": \"white\", \"zerolinewidth\": 2}}}},\n",
              "                        {\"responsive\": true}\n",
              "                    ).then(function(){\n",
              "                            \n",
              "var gd = document.getElementById('cd7a4246-0292-408a-9fdb-aecc8503721a');\n",
              "var x = new MutationObserver(function (mutations, observer) {{\n",
              "        var display = window.getComputedStyle(gd).display;\n",
              "        if (!display || display === 'none') {{\n",
              "            console.log([gd, 'removed!']);\n",
              "            Plotly.purge(gd);\n",
              "            observer.disconnect();\n",
              "        }}\n",
              "}});\n",
              "\n",
              "// Listen for the removal of the full notebook cells\n",
              "var notebookContainer = gd.closest('#notebook-container');\n",
              "if (notebookContainer) {{\n",
              "    x.observe(notebookContainer, {childList: true});\n",
              "}}\n",
              "\n",
              "// Listen for the clearing of the current output cell\n",
              "var outputEl = gd.closest('.output');\n",
              "if (outputEl) {{\n",
              "    x.observe(outputEl, {childList: true});\n",
              "}}\n",
              "\n",
              "                        })\n",
              "                };\n",
              "                \n",
              "            </script>\n",
              "        </div>\n",
              "</body>\n",
              "</html>"
            ]
          },
          "metadata": {}
        }
      ]
    },
    {
      "cell_type": "code",
      "metadata": {
        "colab": {
          "base_uri": "https://localhost:8080/",
          "height": 542
        },
        "id": "mXK7XC719NcS",
        "outputId": "d97df561-002a-425c-86bc-be08b7e9c951"
      },
      "source": [
        "px.histogram(df,\n",
        "             x='age',\n",
        "             hover_data=df.columns, \n",
        "             marginal=\"box\",\n",
        "             color='target')"
      ],
      "execution_count": 26,
      "outputs": [
        {
          "output_type": "display_data",
          "data": {
            "text/html": [
              "<html>\n",
              "<head><meta charset=\"utf-8\" /></head>\n",
              "<body>\n",
              "    <div>\n",
              "            <script src=\"https://cdnjs.cloudflare.com/ajax/libs/mathjax/2.7.5/MathJax.js?config=TeX-AMS-MML_SVG\"></script><script type=\"text/javascript\">if (window.MathJax) {MathJax.Hub.Config({SVG: {font: \"STIX-Web\"}});}</script>\n",
              "                <script type=\"text/javascript\">window.PlotlyConfig = {MathJaxConfig: 'local'};</script>\n",
              "        <script src=\"https://cdn.plot.ly/plotly-latest.min.js\"></script>    \n",
              "            <div id=\"ca6cabbc-4c47-4d4f-8ff0-039445dd481a\" class=\"plotly-graph-div\" style=\"height:525px; width:100%;\"></div>\n",
              "            <script type=\"text/javascript\">\n",
              "                \n",
              "                    window.PLOTLYENV=window.PLOTLYENV || {};\n",
              "                    \n",
              "                if (document.getElementById(\"ca6cabbc-4c47-4d4f-8ff0-039445dd481a\")) {\n",
              "                    Plotly.newPlot(\n",
              "                        'ca6cabbc-4c47-4d4f-8ff0-039445dd481a',\n",
              "                        [{\"alignmentgroup\": \"True\", \"bingroup\": \"x\", \"hoverlabel\": {\"namelength\": 0}, \"hovertemplate\": \"target=1<br>age=%{x}<br>count=%{y}\", \"legendgroup\": \"target=1\", \"marker\": {\"color\": \"#636efa\"}, \"name\": \"target=1\", \"offsetgroup\": \"target=1\", \"orientation\": \"v\", \"showlegend\": true, \"type\": \"histogram\", \"x\": [63, 37, 41, 56, 57, 57, 56, 44, 52, 57, 54, 48, 49, 64, 58, 50, 58, 66, 43, 69, 59, 44, 42, 61, 40, 71, 59, 51, 65, 53, 41, 65, 44, 54, 51, 46, 54, 54, 65, 65, 51, 48, 45, 53, 39, 52, 44, 47, 53, 53, 51, 66, 62, 44, 63, 52, 48, 45, 34, 57, 71, 54, 52, 41, 58, 35, 51, 45, 44, 62, 54, 51, 29, 51, 43, 55, 51, 59, 52, 58, 41, 45, 60, 52, 42, 67, 68, 46, 54, 58, 48, 57, 52, 54, 45, 53, 62, 52, 43, 53, 42, 59, 63, 42, 50, 68, 69, 45, 50, 50, 64, 57, 64, 43, 55, 37, 41, 56, 46, 46, 64, 59, 41, 54, 39, 34, 47, 67, 52, 74, 54, 49, 42, 41, 41, 49, 60, 62, 57, 64, 51, 43, 42, 67, 76, 70, 44, 60, 44, 42, 66, 71, 64, 66, 39, 58, 47, 35, 58, 56, 56, 55, 41, 38, 38], \"xaxis\": \"x\", \"yaxis\": \"y\"}, {\"alignmentgroup\": \"True\", \"customdata\": [[63.0, 1.0, 3.0, 145.0, 233.0, 1.0, 0.0, 150.0, 0.0, 2.3, 0.0, 0.0, 1.0, 1.0], [37.0, 1.0, 2.0, 130.0, 250.0, 0.0, 1.0, 187.0, 0.0, 3.5, 0.0, 0.0, 2.0, 1.0], [41.0, 0.0, 1.0, 130.0, 204.0, 0.0, 0.0, 172.0, 0.0, 1.4, 2.0, 0.0, 2.0, 1.0], [56.0, 1.0, 1.0, 120.0, 236.0, 0.0, 1.0, 178.0, 0.0, 0.8, 2.0, 0.0, 2.0, 1.0], [57.0, 0.0, 0.0, 120.0, 354.0, 0.0, 1.0, 163.0, 1.0, 0.6, 2.0, 0.0, 2.0, 1.0], [57.0, 1.0, 0.0, 140.0, 192.0, 0.0, 1.0, 148.0, 0.0, 0.4, 1.0, 0.0, 1.0, 1.0], [56.0, 0.0, 1.0, 140.0, 294.0, 0.0, 0.0, 153.0, 0.0, 1.3, 1.0, 0.0, 2.0, 1.0], [44.0, 1.0, 1.0, 120.0, 263.0, 0.0, 1.0, 173.0, 0.0, 0.0, 2.0, 0.0, 3.0, 1.0], [52.0, 1.0, 2.0, 172.0, 199.0, 1.0, 1.0, 162.0, 0.0, 0.5, 2.0, 0.0, 3.0, 1.0], [57.0, 1.0, 2.0, 150.0, 168.0, 0.0, 1.0, 174.0, 0.0, 1.6, 2.0, 0.0, 2.0, 1.0], [54.0, 1.0, 0.0, 140.0, 239.0, 0.0, 1.0, 160.0, 0.0, 1.2, 2.0, 0.0, 2.0, 1.0], [48.0, 0.0, 2.0, 130.0, 275.0, 0.0, 1.0, 139.0, 0.0, 0.2, 2.0, 0.0, 2.0, 1.0], [49.0, 1.0, 1.0, 130.0, 266.0, 0.0, 1.0, 171.0, 0.0, 0.6, 2.0, 0.0, 2.0, 1.0], [64.0, 1.0, 3.0, 110.0, 211.0, 0.0, 0.0, 144.0, 1.0, 1.8, 1.0, 0.0, 2.0, 1.0], [58.0, 0.0, 3.0, 150.0, 283.0, 1.0, 0.0, 162.0, 0.0, 1.0, 2.0, 0.0, 2.0, 1.0], [50.0, 0.0, 2.0, 120.0, 219.0, 0.0, 1.0, 158.0, 0.0, 1.6, 1.0, 0.0, 2.0, 1.0], [58.0, 0.0, 2.0, 120.0, 340.0, 0.0, 1.0, 172.0, 0.0, 0.0, 2.0, 0.0, 2.0, 1.0], [66.0, 0.0, 3.0, 150.0, 226.0, 0.0, 1.0, 114.0, 0.0, 2.6, 0.0, 0.0, 2.0, 1.0], [43.0, 1.0, 0.0, 150.0, 247.0, 0.0, 1.0, 171.0, 0.0, 1.5, 2.0, 0.0, 2.0, 1.0], [69.0, 0.0, 3.0, 140.0, 239.0, 0.0, 1.0, 151.0, 0.0, 1.8, 2.0, 2.0, 2.0, 1.0], [59.0, 1.0, 0.0, 135.0, 234.0, 0.0, 1.0, 161.0, 0.0, 0.5, 1.0, 0.0, 3.0, 1.0], [44.0, 1.0, 2.0, 130.0, 233.0, 0.0, 1.0, 179.0, 1.0, 0.4, 2.0, 0.0, 2.0, 1.0], [42.0, 1.0, 0.0, 140.0, 226.0, 0.0, 1.0, 178.0, 0.0, 0.0, 2.0, 0.0, 2.0, 1.0], [61.0, 1.0, 2.0, 150.0, 243.0, 1.0, 1.0, 137.0, 1.0, 1.0, 1.0, 0.0, 2.0, 1.0], [40.0, 1.0, 3.0, 140.0, 199.0, 0.0, 1.0, 178.0, 1.0, 1.4, 2.0, 0.0, 3.0, 1.0], [71.0, 0.0, 1.0, 160.0, 302.0, 0.0, 1.0, 162.0, 0.0, 0.4, 2.0, 2.0, 2.0, 1.0], [59.0, 1.0, 2.0, 150.0, 212.0, 1.0, 1.0, 157.0, 0.0, 1.6, 2.0, 0.0, 2.0, 1.0], [51.0, 1.0, 2.0, 110.0, 175.0, 0.0, 1.0, 123.0, 0.0, 0.6, 2.0, 0.0, 2.0, 1.0], [65.0, 0.0, 2.0, 140.0, 417.0, 1.0, 0.0, 157.0, 0.0, 0.8, 2.0, 1.0, 2.0, 1.0], [53.0, 1.0, 2.0, 130.0, 197.0, 1.0, 0.0, 152.0, 0.0, 1.2, 0.0, 0.0, 2.0, 1.0], [41.0, 0.0, 1.0, 105.0, 198.0, 0.0, 1.0, 168.0, 0.0, 0.0, 2.0, 1.0, 2.0, 1.0], [65.0, 1.0, 0.0, 120.0, 177.0, 0.0, 1.0, 140.0, 0.0, 0.4, 2.0, 0.0, 3.0, 1.0], [44.0, 1.0, 1.0, 130.0, 219.0, 0.0, 0.0, 188.0, 0.0, 0.0, 2.0, 0.0, 2.0, 1.0], [54.0, 1.0, 2.0, 125.0, 273.0, 0.0, 0.0, 152.0, 0.0, 0.5, 0.0, 1.0, 2.0, 1.0], [51.0, 1.0, 3.0, 125.0, 213.0, 0.0, 0.0, 125.0, 1.0, 1.4, 2.0, 1.0, 2.0, 1.0], [46.0, 0.0, 2.0, 142.0, 177.0, 0.0, 0.0, 160.0, 1.0, 1.4, 0.0, 0.0, 2.0, 1.0], [54.0, 0.0, 2.0, 135.0, 304.0, 1.0, 1.0, 170.0, 0.0, 0.0, 2.0, 0.0, 2.0, 1.0], [54.0, 1.0, 2.0, 150.0, 232.0, 0.0, 0.0, 165.0, 0.0, 1.6, 2.0, 0.0, 3.0, 1.0], [65.0, 0.0, 2.0, 155.0, 269.0, 0.0, 1.0, 148.0, 0.0, 0.8, 2.0, 0.0, 2.0, 1.0], [65.0, 0.0, 2.0, 160.0, 360.0, 0.0, 0.0, 151.0, 0.0, 0.8, 2.0, 0.0, 2.0, 1.0], [51.0, 0.0, 2.0, 140.0, 308.0, 0.0, 0.0, 142.0, 0.0, 1.5, 2.0, 1.0, 2.0, 1.0], [48.0, 1.0, 1.0, 130.0, 245.0, 0.0, 0.0, 180.0, 0.0, 0.2, 1.0, 0.0, 2.0, 1.0], [45.0, 1.0, 0.0, 104.0, 208.0, 0.0, 0.0, 148.0, 1.0, 3.0, 1.0, 0.0, 2.0, 1.0], [53.0, 0.0, 0.0, 130.0, 264.0, 0.0, 0.0, 143.0, 0.0, 0.4, 1.0, 0.0, 2.0, 1.0], [39.0, 1.0, 2.0, 140.0, 321.0, 0.0, 0.0, 182.0, 0.0, 0.0, 2.0, 0.0, 2.0, 1.0], [52.0, 1.0, 1.0, 120.0, 325.0, 0.0, 1.0, 172.0, 0.0, 0.2, 2.0, 0.0, 2.0, 1.0], [44.0, 1.0, 2.0, 140.0, 235.0, 0.0, 0.0, 180.0, 0.0, 0.0, 2.0, 0.0, 2.0, 1.0], [47.0, 1.0, 2.0, 138.0, 257.0, 0.0, 0.0, 156.0, 0.0, 0.0, 2.0, 0.0, 2.0, 1.0], [53.0, 0.0, 2.0, 128.0, 216.0, 0.0, 0.0, 115.0, 0.0, 0.0, 2.0, 0.0, 0.0, 1.0], [53.0, 0.0, 0.0, 138.0, 234.0, 0.0, 0.0, 160.0, 0.0, 0.0, 2.0, 0.0, 2.0, 1.0], [51.0, 0.0, 2.0, 130.0, 256.0, 0.0, 0.0, 149.0, 0.0, 0.5, 2.0, 0.0, 2.0, 1.0], [66.0, 1.0, 0.0, 120.0, 302.0, 0.0, 0.0, 151.0, 0.0, 0.4, 1.0, 0.0, 2.0, 1.0], [62.0, 1.0, 2.0, 130.0, 231.0, 0.0, 1.0, 146.0, 0.0, 1.8, 1.0, 3.0, 3.0, 1.0], [44.0, 0.0, 2.0, 108.0, 141.0, 0.0, 1.0, 175.0, 0.0, 0.6, 1.0, 0.0, 2.0, 1.0], [63.0, 0.0, 2.0, 135.0, 252.0, 0.0, 0.0, 172.0, 0.0, 0.0, 2.0, 0.0, 2.0, 1.0], [52.0, 1.0, 1.0, 134.0, 201.0, 0.0, 1.0, 158.0, 0.0, 0.8, 2.0, 1.0, 2.0, 1.0], [48.0, 1.0, 0.0, 122.0, 222.0, 0.0, 0.0, 186.0, 0.0, 0.0, 2.0, 0.0, 2.0, 1.0], [45.0, 1.0, 0.0, 115.0, 260.0, 0.0, 0.0, 185.0, 0.0, 0.0, 2.0, 0.0, 2.0, 1.0], [34.0, 1.0, 3.0, 118.0, 182.0, 0.0, 0.0, 174.0, 0.0, 0.0, 2.0, 0.0, 2.0, 1.0], [57.0, 0.0, 0.0, 128.0, 303.0, 0.0, 0.0, 159.0, 0.0, 0.0, 2.0, 1.0, 2.0, 1.0], [71.0, 0.0, 2.0, 110.0, 265.0, 1.0, 0.0, 130.0, 0.0, 0.0, 2.0, 1.0, 2.0, 1.0], [54.0, 1.0, 1.0, 108.0, 309.0, 0.0, 1.0, 156.0, 0.0, 0.0, 2.0, 0.0, 3.0, 1.0], [52.0, 1.0, 3.0, 118.0, 186.0, 0.0, 0.0, 190.0, 0.0, 0.0, 1.0, 0.0, 1.0, 1.0], [41.0, 1.0, 1.0, 135.0, 203.0, 0.0, 1.0, 132.0, 0.0, 0.0, 1.0, 0.0, 1.0, 1.0], [58.0, 1.0, 2.0, 140.0, 211.0, 1.0, 0.0, 165.0, 0.0, 0.0, 2.0, 0.0, 2.0, 1.0], [35.0, 0.0, 0.0, 138.0, 183.0, 0.0, 1.0, 182.0, 0.0, 1.4, 2.0, 0.0, 2.0, 1.0], [51.0, 1.0, 2.0, 100.0, 222.0, 0.0, 1.0, 143.0, 1.0, 1.2, 1.0, 0.0, 2.0, 1.0], [45.0, 0.0, 1.0, 130.0, 234.0, 0.0, 0.0, 175.0, 0.0, 0.6, 1.0, 0.0, 2.0, 1.0], [44.0, 1.0, 1.0, 120.0, 220.0, 0.0, 1.0, 170.0, 0.0, 0.0, 2.0, 0.0, 2.0, 1.0], [62.0, 0.0, 0.0, 124.0, 209.0, 0.0, 1.0, 163.0, 0.0, 0.0, 2.0, 0.0, 2.0, 1.0], [54.0, 1.0, 2.0, 120.0, 258.0, 0.0, 0.0, 147.0, 0.0, 0.4, 1.0, 0.0, 3.0, 1.0], [51.0, 1.0, 2.0, 94.0, 227.0, 0.0, 1.0, 154.0, 1.0, 0.0, 2.0, 1.0, 3.0, 1.0], [29.0, 1.0, 1.0, 130.0, 204.0, 0.0, 0.0, 202.0, 0.0, 0.0, 2.0, 0.0, 2.0, 1.0], [51.0, 1.0, 0.0, 140.0, 261.0, 0.0, 0.0, 186.0, 1.0, 0.0, 2.0, 0.0, 2.0, 1.0], [43.0, 0.0, 2.0, 122.0, 213.0, 0.0, 1.0, 165.0, 0.0, 0.2, 1.0, 0.0, 2.0, 1.0], [55.0, 0.0, 1.0, 135.0, 250.0, 0.0, 0.0, 161.0, 0.0, 1.4, 1.0, 0.0, 2.0, 1.0], [51.0, 1.0, 2.0, 125.0, 245.0, 1.0, 0.0, 166.0, 0.0, 2.4, 1.0, 0.0, 2.0, 1.0], [59.0, 1.0, 1.0, 140.0, 221.0, 0.0, 1.0, 164.0, 1.0, 0.0, 2.0, 0.0, 2.0, 1.0], [52.0, 1.0, 1.0, 128.0, 205.0, 1.0, 1.0, 184.0, 0.0, 0.0, 2.0, 0.0, 2.0, 1.0], [58.0, 1.0, 2.0, 105.0, 240.0, 0.0, 0.0, 154.0, 1.0, 0.6, 1.0, 0.0, 3.0, 1.0], [41.0, 1.0, 2.0, 112.0, 250.0, 0.0, 1.0, 179.0, 0.0, 0.0, 2.0, 0.0, 2.0, 1.0], [45.0, 1.0, 1.0, 128.0, 308.0, 0.0, 0.0, 170.0, 0.0, 0.0, 2.0, 0.0, 2.0, 1.0], [60.0, 0.0, 2.0, 102.0, 318.0, 0.0, 1.0, 160.0, 0.0, 0.0, 2.0, 1.0, 2.0, 1.0], [52.0, 1.0, 3.0, 152.0, 298.0, 1.0, 1.0, 178.0, 0.0, 1.2, 1.0, 0.0, 3.0, 1.0], [42.0, 0.0, 0.0, 102.0, 265.0, 0.0, 0.0, 122.0, 0.0, 0.6, 1.0, 0.0, 2.0, 1.0], [67.0, 0.0, 2.0, 115.0, 564.0, 0.0, 0.0, 160.0, 0.0, 1.6, 1.0, 0.0, 3.0, 1.0], [68.0, 1.0, 2.0, 118.0, 277.0, 0.0, 1.0, 151.0, 0.0, 1.0, 2.0, 1.0, 3.0, 1.0], [46.0, 1.0, 1.0, 101.0, 197.0, 1.0, 1.0, 156.0, 0.0, 0.0, 2.0, 0.0, 3.0, 1.0], [54.0, 0.0, 2.0, 110.0, 214.0, 0.0, 1.0, 158.0, 0.0, 1.6, 1.0, 0.0, 2.0, 1.0], [58.0, 0.0, 0.0, 100.0, 248.0, 0.0, 0.0, 122.0, 0.0, 1.0, 1.0, 0.0, 2.0, 1.0], [48.0, 1.0, 2.0, 124.0, 255.0, 1.0, 1.0, 175.0, 0.0, 0.0, 2.0, 2.0, 2.0, 1.0], [57.0, 1.0, 0.0, 132.0, 207.0, 0.0, 1.0, 168.0, 1.0, 0.0, 2.0, 0.0, 3.0, 1.0], [52.0, 1.0, 2.0, 138.0, 223.0, 0.0, 1.0, 169.0, 0.0, 0.0, 2.0, 4.0, 2.0, 1.0], [54.0, 0.0, 1.0, 132.0, 288.0, 1.0, 0.0, 159.0, 1.0, 0.0, 2.0, 1.0, 2.0, 1.0], [45.0, 0.0, 1.0, 112.0, 160.0, 0.0, 1.0, 138.0, 0.0, 0.0, 1.0, 0.0, 2.0, 1.0], [53.0, 1.0, 0.0, 142.0, 226.0, 0.0, 0.0, 111.0, 1.0, 0.0, 2.0, 0.0, 3.0, 1.0], [62.0, 0.0, 0.0, 140.0, 394.0, 0.0, 0.0, 157.0, 0.0, 1.2, 1.0, 0.0, 2.0, 1.0], [52.0, 1.0, 0.0, 108.0, 233.0, 1.0, 1.0, 147.0, 0.0, 0.1, 2.0, 3.0, 3.0, 1.0], [43.0, 1.0, 2.0, 130.0, 315.0, 0.0, 1.0, 162.0, 0.0, 1.9, 2.0, 1.0, 2.0, 1.0], [53.0, 1.0, 2.0, 130.0, 246.0, 1.0, 0.0, 173.0, 0.0, 0.0, 2.0, 3.0, 2.0, 1.0], [42.0, 1.0, 3.0, 148.0, 244.0, 0.0, 0.0, 178.0, 0.0, 0.8, 2.0, 2.0, 2.0, 1.0], [59.0, 1.0, 3.0, 178.0, 270.0, 0.0, 0.0, 145.0, 0.0, 4.2, 0.0, 0.0, 3.0, 1.0], [63.0, 0.0, 1.0, 140.0, 195.0, 0.0, 1.0, 179.0, 0.0, 0.0, 2.0, 2.0, 2.0, 1.0], [42.0, 1.0, 2.0, 120.0, 240.0, 1.0, 1.0, 194.0, 0.0, 0.8, 0.0, 0.0, 3.0, 1.0], [50.0, 1.0, 2.0, 129.0, 196.0, 0.0, 1.0, 163.0, 0.0, 0.0, 2.0, 0.0, 2.0, 1.0], [68.0, 0.0, 2.0, 120.0, 211.0, 0.0, 0.0, 115.0, 0.0, 1.5, 1.0, 0.0, 2.0, 1.0], [69.0, 1.0, 3.0, 160.0, 234.0, 1.0, 0.0, 131.0, 0.0, 0.1, 1.0, 1.0, 2.0, 1.0], [45.0, 0.0, 0.0, 138.0, 236.0, 0.0, 0.0, 152.0, 1.0, 0.2, 1.0, 0.0, 2.0, 1.0], [50.0, 0.0, 1.0, 120.0, 244.0, 0.0, 1.0, 162.0, 0.0, 1.1, 2.0, 0.0, 2.0, 1.0], [50.0, 0.0, 0.0, 110.0, 254.0, 0.0, 0.0, 159.0, 0.0, 0.0, 2.0, 0.0, 2.0, 1.0], [64.0, 0.0, 0.0, 180.0, 325.0, 0.0, 1.0, 154.0, 1.0, 0.0, 2.0, 0.0, 2.0, 1.0], [57.0, 1.0, 2.0, 150.0, 126.0, 1.0, 1.0, 173.0, 0.0, 0.2, 2.0, 1.0, 3.0, 1.0], [64.0, 0.0, 2.0, 140.0, 313.0, 0.0, 1.0, 133.0, 0.0, 0.2, 2.0, 0.0, 3.0, 1.0], [43.0, 1.0, 0.0, 110.0, 211.0, 0.0, 1.0, 161.0, 0.0, 0.0, 2.0, 0.0, 3.0, 1.0], [55.0, 1.0, 1.0, 130.0, 262.0, 0.0, 1.0, 155.0, 0.0, 0.0, 2.0, 0.0, 2.0, 1.0], [37.0, 0.0, 2.0, 120.0, 215.0, 0.0, 1.0, 170.0, 0.0, 0.0, 2.0, 0.0, 2.0, 1.0], [41.0, 1.0, 2.0, 130.0, 214.0, 0.0, 0.0, 168.0, 0.0, 2.0, 1.0, 0.0, 2.0, 1.0], [56.0, 1.0, 3.0, 120.0, 193.0, 0.0, 0.0, 162.0, 0.0, 1.9, 1.0, 0.0, 3.0, 1.0], [46.0, 0.0, 1.0, 105.0, 204.0, 0.0, 1.0, 172.0, 0.0, 0.0, 2.0, 0.0, 2.0, 1.0], [46.0, 0.0, 0.0, 138.0, 243.0, 0.0, 0.0, 152.0, 1.0, 0.0, 1.0, 0.0, 2.0, 1.0], [64.0, 0.0, 0.0, 130.0, 303.0, 0.0, 1.0, 122.0, 0.0, 2.0, 1.0, 2.0, 2.0, 1.0], [59.0, 1.0, 0.0, 138.0, 271.0, 0.0, 0.0, 182.0, 0.0, 0.0, 2.0, 0.0, 2.0, 1.0], [41.0, 0.0, 2.0, 112.0, 268.0, 0.0, 0.0, 172.0, 1.0, 0.0, 2.0, 0.0, 2.0, 1.0], [54.0, 0.0, 2.0, 108.0, 267.0, 0.0, 0.0, 167.0, 0.0, 0.0, 2.0, 0.0, 2.0, 1.0], [39.0, 0.0, 2.0, 94.0, 199.0, 0.0, 1.0, 179.0, 0.0, 0.0, 2.0, 0.0, 2.0, 1.0], [34.0, 0.0, 1.0, 118.0, 210.0, 0.0, 1.0, 192.0, 0.0, 0.7, 2.0, 0.0, 2.0, 1.0], [47.0, 1.0, 0.0, 112.0, 204.0, 0.0, 1.0, 143.0, 0.0, 0.1, 2.0, 0.0, 2.0, 1.0], [67.0, 0.0, 2.0, 152.0, 277.0, 0.0, 1.0, 172.0, 0.0, 0.0, 2.0, 1.0, 2.0, 1.0], [52.0, 0.0, 2.0, 136.0, 196.0, 0.0, 0.0, 169.0, 0.0, 0.1, 1.0, 0.0, 2.0, 1.0], [74.0, 0.0, 1.0, 120.0, 269.0, 0.0, 0.0, 121.0, 1.0, 0.2, 2.0, 1.0, 2.0, 1.0], [54.0, 0.0, 2.0, 160.0, 201.0, 0.0, 1.0, 163.0, 0.0, 0.0, 2.0, 1.0, 2.0, 1.0], [49.0, 0.0, 1.0, 134.0, 271.0, 0.0, 1.0, 162.0, 0.0, 0.0, 1.0, 0.0, 2.0, 1.0], [42.0, 1.0, 1.0, 120.0, 295.0, 0.0, 1.0, 162.0, 0.0, 0.0, 2.0, 0.0, 2.0, 1.0], [41.0, 1.0, 1.0, 110.0, 235.0, 0.0, 1.0, 153.0, 0.0, 0.0, 2.0, 0.0, 2.0, 1.0], [41.0, 0.0, 1.0, 126.0, 306.0, 0.0, 1.0, 163.0, 0.0, 0.0, 2.0, 0.0, 2.0, 1.0], [49.0, 0.0, 0.0, 130.0, 269.0, 0.0, 1.0, 163.0, 0.0, 0.0, 2.0, 0.0, 2.0, 1.0], [60.0, 0.0, 2.0, 120.0, 178.0, 1.0, 1.0, 96.0, 0.0, 0.0, 2.0, 0.0, 2.0, 1.0], [62.0, 1.0, 1.0, 128.0, 208.0, 1.0, 0.0, 140.0, 0.0, 0.0, 2.0, 0.0, 2.0, 1.0], [57.0, 1.0, 0.0, 110.0, 201.0, 0.0, 1.0, 126.0, 1.0, 1.5, 1.0, 0.0, 1.0, 1.0], [64.0, 1.0, 0.0, 128.0, 263.0, 0.0, 1.0, 105.0, 1.0, 0.2, 1.0, 1.0, 3.0, 1.0], [51.0, 0.0, 2.0, 120.0, 295.0, 0.0, 0.0, 157.0, 0.0, 0.6, 2.0, 0.0, 2.0, 1.0], [43.0, 1.0, 0.0, 115.0, 303.0, 0.0, 1.0, 181.0, 0.0, 1.2, 1.0, 0.0, 2.0, 1.0], [42.0, 0.0, 2.0, 120.0, 209.0, 0.0, 1.0, 173.0, 0.0, 0.0, 1.0, 0.0, 2.0, 1.0], [67.0, 0.0, 0.0, 106.0, 223.0, 0.0, 1.0, 142.0, 0.0, 0.3, 2.0, 2.0, 2.0, 1.0], [76.0, 0.0, 2.0, 140.0, 197.0, 0.0, 2.0, 116.0, 0.0, 1.1, 1.0, 0.0, 2.0, 1.0], [70.0, 1.0, 1.0, 156.0, 245.0, 0.0, 0.0, 143.0, 0.0, 0.0, 2.0, 0.0, 2.0, 1.0], [44.0, 0.0, 2.0, 118.0, 242.0, 0.0, 1.0, 149.0, 0.0, 0.3, 1.0, 1.0, 2.0, 1.0], [60.0, 0.0, 3.0, 150.0, 240.0, 0.0, 1.0, 171.0, 0.0, 0.9, 2.0, 0.0, 2.0, 1.0], [44.0, 1.0, 2.0, 120.0, 226.0, 0.0, 1.0, 169.0, 0.0, 0.0, 2.0, 0.0, 2.0, 1.0], [42.0, 1.0, 2.0, 130.0, 180.0, 0.0, 1.0, 150.0, 0.0, 0.0, 2.0, 0.0, 2.0, 1.0], [66.0, 1.0, 0.0, 160.0, 228.0, 0.0, 0.0, 138.0, 0.0, 2.3, 2.0, 0.0, 1.0, 1.0], [71.0, 0.0, 0.0, 112.0, 149.0, 0.0, 1.0, 125.0, 0.0, 1.6, 1.0, 0.0, 2.0, 1.0], [64.0, 1.0, 3.0, 170.0, 227.0, 0.0, 0.0, 155.0, 0.0, 0.6, 1.0, 0.0, 3.0, 1.0], [66.0, 0.0, 2.0, 146.0, 278.0, 0.0, 0.0, 152.0, 0.0, 0.0, 1.0, 1.0, 2.0, 1.0], [39.0, 0.0, 2.0, 138.0, 220.0, 0.0, 1.0, 152.0, 0.0, 0.0, 1.0, 0.0, 2.0, 1.0], [58.0, 0.0, 0.0, 130.0, 197.0, 0.0, 1.0, 131.0, 0.0, 0.6, 1.0, 0.0, 2.0, 1.0], [47.0, 1.0, 2.0, 130.0, 253.0, 0.0, 1.0, 179.0, 0.0, 0.0, 2.0, 0.0, 2.0, 1.0], [35.0, 1.0, 1.0, 122.0, 192.0, 0.0, 1.0, 174.0, 0.0, 0.0, 2.0, 0.0, 2.0, 1.0], [58.0, 1.0, 1.0, 125.0, 220.0, 0.0, 1.0, 144.0, 0.0, 0.4, 1.0, 4.0, 3.0, 1.0], [56.0, 1.0, 1.0, 130.0, 221.0, 0.0, 0.0, 163.0, 0.0, 0.0, 2.0, 0.0, 3.0, 1.0], [56.0, 1.0, 1.0, 120.0, 240.0, 0.0, 1.0, 169.0, 0.0, 0.0, 0.0, 0.0, 2.0, 1.0], [55.0, 0.0, 1.0, 132.0, 342.0, 0.0, 1.0, 166.0, 0.0, 1.2, 2.0, 0.0, 2.0, 1.0], [41.0, 1.0, 1.0, 120.0, 157.0, 0.0, 1.0, 182.0, 0.0, 0.0, 2.0, 0.0, 2.0, 1.0], [38.0, 1.0, 2.0, 138.0, 175.0, 0.0, 1.0, 173.0, 0.0, 0.0, 2.0, 4.0, 2.0, 1.0], [38.0, 1.0, 2.0, 138.0, 175.0, 0.0, 1.0, 173.0, 0.0, 0.0, 2.0, 4.0, 2.0, 1.0]], \"hoverlabel\": {\"namelength\": 0}, \"hovertemplate\": \"target=%{customdata[13]}<br>age=%{customdata[0]}<br>sex=%{customdata[1]}<br>cp=%{customdata[2]}<br>trestbps=%{customdata[3]}<br>chol=%{customdata[4]}<br>fbs=%{customdata[5]}<br>restecg=%{customdata[6]}<br>thalach=%{customdata[7]}<br>exang=%{customdata[8]}<br>oldpeak=%{customdata[9]}<br>slope=%{customdata[10]}<br>ca=%{customdata[11]}<br>thal=%{customdata[12]}\", \"legendgroup\": \"target=1\", \"marker\": {\"color\": \"#636efa\"}, \"name\": \"target=1\", \"notched\": true, \"offsetgroup\": \"target=1\", \"showlegend\": false, \"type\": \"box\", \"x\": [63, 37, 41, 56, 57, 57, 56, 44, 52, 57, 54, 48, 49, 64, 58, 50, 58, 66, 43, 69, 59, 44, 42, 61, 40, 71, 59, 51, 65, 53, 41, 65, 44, 54, 51, 46, 54, 54, 65, 65, 51, 48, 45, 53, 39, 52, 44, 47, 53, 53, 51, 66, 62, 44, 63, 52, 48, 45, 34, 57, 71, 54, 52, 41, 58, 35, 51, 45, 44, 62, 54, 51, 29, 51, 43, 55, 51, 59, 52, 58, 41, 45, 60, 52, 42, 67, 68, 46, 54, 58, 48, 57, 52, 54, 45, 53, 62, 52, 43, 53, 42, 59, 63, 42, 50, 68, 69, 45, 50, 50, 64, 57, 64, 43, 55, 37, 41, 56, 46, 46, 64, 59, 41, 54, 39, 34, 47, 67, 52, 74, 54, 49, 42, 41, 41, 49, 60, 62, 57, 64, 51, 43, 42, 67, 76, 70, 44, 60, 44, 42, 66, 71, 64, 66, 39, 58, 47, 35, 58, 56, 56, 55, 41, 38, 38], \"xaxis\": \"x2\", \"yaxis\": \"y2\"}, {\"alignmentgroup\": \"True\", \"bingroup\": \"x\", \"hoverlabel\": {\"namelength\": 0}, \"hovertemplate\": \"target=0<br>age=%{x}<br>count=%{y}\", \"legendgroup\": \"target=0\", \"marker\": {\"color\": \"#EF553B\"}, \"name\": \"target=0\", \"offsetgroup\": \"target=0\", \"orientation\": \"v\", \"showlegend\": true, \"type\": \"histogram\", \"x\": [67, 67, 62, 63, 53, 56, 48, 58, 58, 60, 40, 60, 64, 43, 57, 55, 65, 61, 58, 50, 44, 60, 54, 50, 41, 51, 58, 54, 60, 60, 59, 46, 67, 62, 65, 44, 60, 58, 68, 62, 52, 59, 60, 49, 59, 57, 61, 39, 61, 56, 43, 62, 63, 65, 48, 63, 55, 65, 56, 54, 70, 62, 35, 59, 64, 47, 57, 55, 64, 70, 51, 58, 60, 77, 35, 70, 59, 64, 57, 56, 48, 56, 66, 54, 69, 51, 43, 62, 67, 59, 45, 58, 50, 62, 38, 66, 52, 53, 63, 54, 66, 55, 49, 54, 56, 46, 61, 67, 58, 47, 52, 58, 57, 58, 61, 42, 52, 59, 40, 61, 46, 59, 57, 57, 55, 61, 58, 58, 67, 44, 63, 63, 59, 57, 45, 68, 57, 57], \"xaxis\": \"x\", \"yaxis\": \"y\"}, {\"alignmentgroup\": \"True\", \"customdata\": [[67.0, 1.0, 0.0, 160.0, 286.0, 0.0, 0.0, 108.0, 1.0, 1.5, 1.0, 3.0, 2.0, 0.0], [67.0, 1.0, 0.0, 120.0, 229.0, 0.0, 0.0, 129.0, 1.0, 2.6, 1.0, 2.0, 3.0, 0.0], [62.0, 0.0, 0.0, 140.0, 268.0, 0.0, 0.0, 160.0, 0.0, 3.6, 0.0, 2.0, 2.0, 0.0], [63.0, 1.0, 0.0, 130.0, 254.0, 0.0, 0.0, 147.0, 0.0, 1.4, 1.0, 1.0, 3.0, 0.0], [53.0, 1.0, 0.0, 140.0, 203.0, 1.0, 0.0, 155.0, 1.0, 3.1, 0.0, 0.0, 3.0, 0.0], [56.0, 1.0, 2.0, 130.0, 256.0, 1.0, 0.0, 142.0, 1.0, 0.6, 1.0, 1.0, 1.0, 0.0], [48.0, 1.0, 1.0, 110.0, 229.0, 0.0, 1.0, 168.0, 0.0, 1.0, 0.0, 0.0, 3.0, 0.0], [58.0, 1.0, 1.0, 120.0, 284.0, 0.0, 0.0, 160.0, 0.0, 1.8, 1.0, 0.0, 2.0, 0.0], [58.0, 1.0, 2.0, 132.0, 224.0, 0.0, 0.0, 173.0, 0.0, 3.2, 2.0, 2.0, 3.0, 0.0], [60.0, 1.0, 0.0, 130.0, 206.0, 0.0, 0.0, 132.0, 1.0, 2.4, 1.0, 2.0, 3.0, 0.0], [40.0, 1.0, 0.0, 110.0, 167.0, 0.0, 0.0, 114.0, 1.0, 2.0, 1.0, 0.0, 3.0, 0.0], [60.0, 1.0, 0.0, 117.0, 230.0, 1.0, 1.0, 160.0, 1.0, 1.4, 2.0, 2.0, 3.0, 0.0], [64.0, 1.0, 2.0, 140.0, 335.0, 0.0, 1.0, 158.0, 0.0, 0.0, 2.0, 0.0, 2.0, 0.0], [43.0, 1.0, 0.0, 120.0, 177.0, 0.0, 0.0, 120.0, 1.0, 2.5, 1.0, 0.0, 3.0, 0.0], [57.0, 1.0, 0.0, 150.0, 276.0, 0.0, 0.0, 112.0, 1.0, 0.6, 1.0, 1.0, 1.0, 0.0], [55.0, 1.0, 0.0, 132.0, 353.0, 0.0, 1.0, 132.0, 1.0, 1.2, 1.0, 1.0, 3.0, 0.0], [65.0, 0.0, 0.0, 150.0, 225.0, 0.0, 0.0, 114.0, 0.0, 1.0, 1.0, 3.0, 3.0, 0.0], [61.0, 0.0, 0.0, 130.0, 330.0, 0.0, 0.0, 169.0, 0.0, 0.0, 2.0, 0.0, 2.0, 0.0], [58.0, 1.0, 2.0, 112.0, 230.0, 0.0, 0.0, 165.0, 0.0, 2.5, 1.0, 1.0, 3.0, 0.0], [50.0, 1.0, 0.0, 150.0, 243.0, 0.0, 0.0, 128.0, 0.0, 2.6, 1.0, 0.0, 3.0, 0.0], [44.0, 1.0, 0.0, 112.0, 290.0, 0.0, 0.0, 153.0, 0.0, 0.0, 2.0, 1.0, 2.0, 0.0], [60.0, 1.0, 0.0, 130.0, 253.0, 0.0, 1.0, 144.0, 1.0, 1.4, 2.0, 1.0, 3.0, 0.0], [54.0, 1.0, 0.0, 124.0, 266.0, 0.0, 0.0, 109.0, 1.0, 2.2, 1.0, 1.0, 3.0, 0.0], [50.0, 1.0, 2.0, 140.0, 233.0, 0.0, 1.0, 163.0, 0.0, 0.6, 1.0, 1.0, 3.0, 0.0], [41.0, 1.0, 0.0, 110.0, 172.0, 0.0, 0.0, 158.0, 0.0, 0.0, 2.0, 0.0, 3.0, 0.0], [51.0, 0.0, 0.0, 130.0, 305.0, 0.0, 1.0, 142.0, 1.0, 1.2, 1.0, 0.0, 3.0, 0.0], [58.0, 1.0, 0.0, 128.0, 216.0, 0.0, 0.0, 131.0, 1.0, 2.2, 1.0, 3.0, 3.0, 0.0], [54.0, 1.0, 0.0, 120.0, 188.0, 0.0, 1.0, 113.0, 0.0, 1.4, 1.0, 1.0, 3.0, 0.0], [60.0, 1.0, 0.0, 145.0, 282.0, 0.0, 0.0, 142.0, 1.0, 2.8, 1.0, 2.0, 3.0, 0.0], [60.0, 1.0, 2.0, 140.0, 185.0, 0.0, 0.0, 155.0, 0.0, 3.0, 1.0, 0.0, 2.0, 0.0], [59.0, 1.0, 0.0, 170.0, 326.0, 0.0, 0.0, 140.0, 1.0, 3.4, 0.0, 0.0, 3.0, 0.0], [46.0, 1.0, 2.0, 150.0, 231.0, 0.0, 1.0, 147.0, 0.0, 3.6, 1.0, 0.0, 2.0, 0.0], [67.0, 1.0, 0.0, 125.0, 254.0, 1.0, 1.0, 163.0, 0.0, 0.2, 1.0, 2.0, 3.0, 0.0], [62.0, 1.0, 0.0, 120.0, 267.0, 0.0, 1.0, 99.0, 1.0, 1.8, 1.0, 2.0, 3.0, 0.0], [65.0, 1.0, 0.0, 110.0, 248.0, 0.0, 0.0, 158.0, 0.0, 0.6, 2.0, 2.0, 1.0, 0.0], [44.0, 1.0, 0.0, 110.0, 197.0, 0.0, 0.0, 177.0, 0.0, 0.0, 2.0, 1.0, 2.0, 0.0], [60.0, 1.0, 0.0, 125.0, 258.0, 0.0, 0.0, 141.0, 1.0, 2.8, 1.0, 1.0, 3.0, 0.0], [58.0, 1.0, 0.0, 150.0, 270.0, 0.0, 0.0, 111.0, 1.0, 0.8, 2.0, 0.0, 3.0, 0.0], [68.0, 1.0, 2.0, 180.0, 274.0, 1.0, 0.0, 150.0, 1.0, 1.6, 1.0, 0.0, 3.0, 0.0], [62.0, 0.0, 0.0, 160.0, 164.0, 0.0, 0.0, 145.0, 0.0, 6.2, 0.0, 3.0, 3.0, 0.0], [52.0, 1.0, 0.0, 128.0, 255.0, 0.0, 1.0, 161.0, 1.0, 0.0, 2.0, 1.0, 3.0, 0.0], [59.0, 1.0, 0.0, 110.0, 239.0, 0.0, 0.0, 142.0, 1.0, 1.2, 1.0, 1.0, 3.0, 0.0], [60.0, 0.0, 0.0, 150.0, 258.0, 0.0, 0.0, 157.0, 0.0, 2.6, 1.0, 2.0, 3.0, 0.0], [49.0, 1.0, 2.0, 120.0, 188.0, 0.0, 1.0, 139.0, 0.0, 2.0, 1.0, 3.0, 3.0, 0.0], [59.0, 1.0, 0.0, 140.0, 177.0, 0.0, 1.0, 162.0, 1.0, 0.0, 2.0, 1.0, 3.0, 0.0], [57.0, 1.0, 2.0, 128.0, 229.0, 0.0, 0.0, 150.0, 0.0, 0.4, 1.0, 1.0, 3.0, 0.0], [61.0, 1.0, 0.0, 120.0, 260.0, 0.0, 1.0, 140.0, 1.0, 3.6, 1.0, 1.0, 3.0, 0.0], [39.0, 1.0, 0.0, 118.0, 219.0, 0.0, 1.0, 140.0, 0.0, 1.2, 1.0, 0.0, 3.0, 0.0], [61.0, 0.0, 0.0, 145.0, 307.0, 0.0, 0.0, 146.0, 1.0, 1.0, 1.0, 0.0, 3.0, 0.0], [56.0, 1.0, 0.0, 125.0, 249.0, 1.0, 0.0, 144.0, 1.0, 1.2, 1.0, 1.0, 2.0, 0.0], [43.0, 0.0, 0.0, 132.0, 341.0, 1.0, 0.0, 136.0, 1.0, 3.0, 1.0, 0.0, 3.0, 0.0], [62.0, 0.0, 2.0, 130.0, 263.0, 0.0, 1.0, 97.0, 0.0, 1.2, 1.0, 1.0, 3.0, 0.0], [63.0, 1.0, 0.0, 130.0, 330.0, 1.0, 0.0, 132.0, 1.0, 1.8, 2.0, 3.0, 3.0, 0.0], [65.0, 1.0, 0.0, 135.0, 254.0, 0.0, 0.0, 127.0, 0.0, 2.8, 1.0, 1.0, 3.0, 0.0], [48.0, 1.0, 0.0, 130.0, 256.0, 1.0, 0.0, 150.0, 1.0, 0.0, 2.0, 2.0, 3.0, 0.0], [63.0, 0.0, 0.0, 150.0, 407.0, 0.0, 0.0, 154.0, 0.0, 4.0, 1.0, 3.0, 3.0, 0.0], [55.0, 1.0, 0.0, 140.0, 217.0, 0.0, 1.0, 111.0, 1.0, 5.6, 0.0, 0.0, 3.0, 0.0], [65.0, 1.0, 3.0, 138.0, 282.0, 1.0, 0.0, 174.0, 0.0, 1.4, 1.0, 1.0, 2.0, 0.0], [56.0, 0.0, 0.0, 200.0, 288.0, 1.0, 0.0, 133.0, 1.0, 4.0, 0.0, 2.0, 3.0, 0.0], [54.0, 1.0, 0.0, 110.0, 239.0, 0.0, 1.0, 126.0, 1.0, 2.8, 1.0, 1.0, 3.0, 0.0], [70.0, 1.0, 0.0, 145.0, 174.0, 0.0, 1.0, 125.0, 1.0, 2.6, 0.0, 0.0, 3.0, 0.0], [62.0, 1.0, 1.0, 120.0, 281.0, 0.0, 0.0, 103.0, 0.0, 1.4, 1.0, 1.0, 3.0, 0.0], [35.0, 1.0, 0.0, 120.0, 198.0, 0.0, 1.0, 130.0, 1.0, 1.6, 1.0, 0.0, 3.0, 0.0], [59.0, 1.0, 3.0, 170.0, 288.0, 0.0, 0.0, 159.0, 0.0, 0.2, 1.0, 0.0, 3.0, 0.0], [64.0, 1.0, 2.0, 125.0, 309.0, 0.0, 1.0, 131.0, 1.0, 1.8, 1.0, 0.0, 3.0, 0.0], [47.0, 1.0, 2.0, 108.0, 243.0, 0.0, 1.0, 152.0, 0.0, 0.0, 2.0, 0.0, 2.0, 0.0], [57.0, 1.0, 0.0, 165.0, 289.0, 1.0, 0.0, 124.0, 0.0, 1.0, 1.0, 3.0, 3.0, 0.0], [55.0, 1.0, 0.0, 160.0, 289.0, 0.0, 0.0, 145.0, 1.0, 0.8, 1.0, 1.0, 3.0, 0.0], [64.0, 1.0, 0.0, 120.0, 246.0, 0.0, 0.0, 96.0, 1.0, 2.2, 0.0, 1.0, 2.0, 0.0], [70.0, 1.0, 0.0, 130.0, 322.0, 0.0, 0.0, 109.0, 0.0, 2.4, 1.0, 3.0, 2.0, 0.0], [51.0, 1.0, 0.0, 140.0, 299.0, 0.0, 1.0, 173.0, 1.0, 1.6, 2.0, 0.0, 3.0, 0.0], [58.0, 1.0, 0.0, 125.0, 300.0, 0.0, 0.0, 171.0, 0.0, 0.0, 2.0, 2.0, 3.0, 0.0], [60.0, 1.0, 0.0, 140.0, 293.0, 0.0, 0.0, 170.0, 0.0, 1.2, 1.0, 2.0, 3.0, 0.0], [77.0, 1.0, 0.0, 125.0, 304.0, 0.0, 0.0, 162.0, 1.0, 0.0, 2.0, 3.0, 2.0, 0.0], [35.0, 1.0, 0.0, 126.0, 282.0, 0.0, 0.0, 156.0, 1.0, 0.0, 2.0, 0.0, 3.0, 0.0], [70.0, 1.0, 2.0, 160.0, 269.0, 0.0, 1.0, 112.0, 1.0, 2.9, 1.0, 1.0, 3.0, 0.0], [59.0, 0.0, 0.0, 174.0, 249.0, 0.0, 1.0, 143.0, 1.0, 0.0, 1.0, 0.0, 2.0, 0.0], [64.0, 1.0, 0.0, 145.0, 212.0, 0.0, 0.0, 132.0, 0.0, 2.0, 1.0, 2.0, 1.0, 0.0], [57.0, 1.0, 0.0, 152.0, 274.0, 0.0, 1.0, 88.0, 1.0, 1.2, 1.0, 1.0, 3.0, 0.0], [56.0, 1.0, 0.0, 132.0, 184.0, 0.0, 0.0, 105.0, 1.0, 2.1, 1.0, 1.0, 1.0, 0.0], [48.0, 1.0, 0.0, 124.0, 274.0, 0.0, 0.0, 166.0, 0.0, 0.5, 1.0, 0.0, 3.0, 0.0], [56.0, 0.0, 0.0, 134.0, 409.0, 0.0, 0.0, 150.0, 1.0, 1.9, 1.0, 2.0, 3.0, 0.0], [66.0, 1.0, 1.0, 160.0, 246.0, 0.0, 1.0, 120.0, 1.0, 0.0, 1.0, 3.0, 1.0, 0.0], [54.0, 1.0, 1.0, 192.0, 283.0, 0.0, 0.0, 195.0, 0.0, 0.0, 2.0, 1.0, 3.0, 0.0], [69.0, 1.0, 2.0, 140.0, 254.0, 0.0, 0.0, 146.0, 0.0, 2.0, 1.0, 3.0, 3.0, 0.0], [51.0, 1.0, 0.0, 140.0, 298.0, 0.0, 1.0, 122.0, 1.0, 4.2, 1.0, 3.0, 3.0, 0.0], [43.0, 1.0, 0.0, 132.0, 247.0, 1.0, 0.0, 143.0, 1.0, 0.1, 1.0, 4.0, 3.0, 0.0], [62.0, 0.0, 0.0, 138.0, 294.0, 1.0, 1.0, 106.0, 0.0, 1.9, 1.0, 3.0, 2.0, 0.0], [67.0, 1.0, 0.0, 100.0, 299.0, 0.0, 0.0, 125.0, 1.0, 0.9, 1.0, 2.0, 2.0, 0.0], [59.0, 1.0, 3.0, 160.0, 273.0, 0.0, 0.0, 125.0, 0.0, 0.0, 2.0, 0.0, 2.0, 0.0], [45.0, 1.0, 0.0, 142.0, 309.0, 0.0, 0.0, 147.0, 1.0, 0.0, 1.0, 3.0, 3.0, 0.0], [58.0, 1.0, 0.0, 128.0, 259.0, 0.0, 0.0, 130.0, 1.0, 3.0, 1.0, 2.0, 3.0, 0.0], [50.0, 1.0, 0.0, 144.0, 200.0, 0.0, 0.0, 126.0, 1.0, 0.9, 1.0, 0.0, 3.0, 0.0], [62.0, 0.0, 0.0, 150.0, 244.0, 0.0, 1.0, 154.0, 1.0, 1.4, 1.0, 0.0, 2.0, 0.0], [38.0, 1.0, 3.0, 120.0, 231.0, 0.0, 1.0, 182.0, 1.0, 3.8, 1.0, 0.0, 3.0, 0.0], [66.0, 0.0, 0.0, 178.0, 228.0, 1.0, 1.0, 165.0, 1.0, 1.0, 1.0, 2.0, 3.0, 0.0], [52.0, 1.0, 0.0, 112.0, 230.0, 0.0, 1.0, 160.0, 0.0, 0.0, 2.0, 1.0, 2.0, 0.0], [53.0, 1.0, 0.0, 123.0, 282.0, 0.0, 1.0, 95.0, 1.0, 2.0, 1.0, 2.0, 3.0, 0.0], [63.0, 0.0, 0.0, 108.0, 269.0, 0.0, 1.0, 169.0, 1.0, 1.8, 1.0, 2.0, 2.0, 0.0], [54.0, 1.0, 0.0, 110.0, 206.0, 0.0, 0.0, 108.0, 1.0, 0.0, 1.0, 1.0, 2.0, 0.0], [66.0, 1.0, 0.0, 112.0, 212.0, 0.0, 0.0, 132.0, 1.0, 0.1, 2.0, 1.0, 2.0, 0.0], [55.0, 0.0, 0.0, 180.0, 327.0, 0.0, 2.0, 117.0, 1.0, 3.4, 1.0, 0.0, 2.0, 0.0], [49.0, 1.0, 2.0, 118.0, 149.0, 0.0, 0.0, 126.0, 0.0, 0.8, 2.0, 3.0, 2.0, 0.0], [54.0, 1.0, 0.0, 122.0, 286.0, 0.0, 0.0, 116.0, 1.0, 3.2, 1.0, 2.0, 2.0, 0.0], [56.0, 1.0, 0.0, 130.0, 283.0, 1.0, 0.0, 103.0, 1.0, 1.6, 0.0, 0.0, 3.0, 0.0], [46.0, 1.0, 0.0, 120.0, 249.0, 0.0, 0.0, 144.0, 0.0, 0.8, 2.0, 0.0, 3.0, 0.0], [61.0, 1.0, 3.0, 134.0, 234.0, 0.0, 1.0, 145.0, 0.0, 2.6, 1.0, 2.0, 2.0, 0.0], [67.0, 1.0, 0.0, 120.0, 237.0, 0.0, 1.0, 71.0, 0.0, 1.0, 1.0, 0.0, 2.0, 0.0], [58.0, 1.0, 0.0, 100.0, 234.0, 0.0, 1.0, 156.0, 0.0, 0.1, 2.0, 1.0, 3.0, 0.0], [47.0, 1.0, 0.0, 110.0, 275.0, 0.0, 0.0, 118.0, 1.0, 1.0, 1.0, 1.0, 2.0, 0.0], [52.0, 1.0, 0.0, 125.0, 212.0, 0.0, 1.0, 168.0, 0.0, 1.0, 2.0, 2.0, 3.0, 0.0], [58.0, 1.0, 0.0, 146.0, 218.0, 0.0, 1.0, 105.0, 0.0, 2.0, 1.0, 1.0, 3.0, 0.0], [57.0, 1.0, 1.0, 124.0, 261.0, 0.0, 1.0, 141.0, 0.0, 0.3, 2.0, 0.0, 3.0, 0.0], [58.0, 0.0, 1.0, 136.0, 319.0, 1.0, 0.0, 152.0, 0.0, 0.0, 2.0, 2.0, 2.0, 0.0], [61.0, 1.0, 0.0, 138.0, 166.0, 0.0, 0.0, 125.0, 1.0, 3.6, 1.0, 1.0, 2.0, 0.0], [42.0, 1.0, 0.0, 136.0, 315.0, 0.0, 1.0, 125.0, 1.0, 1.8, 1.0, 0.0, 1.0, 0.0], [52.0, 1.0, 0.0, 128.0, 204.0, 1.0, 1.0, 156.0, 1.0, 1.0, 1.0, 0.0, 0.0, 0.0], [59.0, 1.0, 2.0, 126.0, 218.0, 1.0, 1.0, 134.0, 0.0, 2.2, 1.0, 1.0, 1.0, 0.0], [40.0, 1.0, 0.0, 152.0, 223.0, 0.0, 1.0, 181.0, 0.0, 0.0, 2.0, 0.0, 3.0, 0.0], [61.0, 1.0, 0.0, 140.0, 207.0, 0.0, 0.0, 138.0, 1.0, 1.9, 2.0, 1.0, 3.0, 0.0], [46.0, 1.0, 0.0, 140.0, 311.0, 0.0, 1.0, 120.0, 1.0, 1.8, 1.0, 2.0, 3.0, 0.0], [59.0, 1.0, 3.0, 134.0, 204.0, 0.0, 1.0, 162.0, 0.0, 0.8, 2.0, 2.0, 2.0, 0.0], [57.0, 1.0, 1.0, 154.0, 232.0, 0.0, 0.0, 164.0, 0.0, 0.0, 2.0, 1.0, 2.0, 0.0], [57.0, 1.0, 0.0, 110.0, 335.0, 0.0, 1.0, 143.0, 1.0, 3.0, 1.0, 1.0, 3.0, 0.0], [55.0, 0.0, 0.0, 128.0, 205.0, 0.0, 2.0, 130.0, 1.0, 2.0, 1.0, 1.0, 3.0, 0.0], [61.0, 1.0, 0.0, 148.0, 203.0, 0.0, 1.0, 161.0, 0.0, 0.0, 2.0, 1.0, 3.0, 0.0], [58.0, 1.0, 0.0, 114.0, 318.0, 0.0, 2.0, 140.0, 0.0, 4.4, 0.0, 3.0, 1.0, 0.0], [58.0, 0.0, 0.0, 170.0, 225.0, 1.0, 0.0, 146.0, 1.0, 2.8, 1.0, 2.0, 1.0, 0.0], [67.0, 1.0, 2.0, 152.0, 212.0, 0.0, 0.0, 150.0, 0.0, 0.8, 1.0, 0.0, 3.0, 0.0], [44.0, 1.0, 0.0, 120.0, 169.0, 0.0, 1.0, 144.0, 1.0, 2.8, 0.0, 0.0, 1.0, 0.0], [63.0, 1.0, 0.0, 140.0, 187.0, 0.0, 0.0, 144.0, 1.0, 4.0, 2.0, 2.0, 3.0, 0.0], [63.0, 0.0, 0.0, 124.0, 197.0, 0.0, 1.0, 136.0, 1.0, 0.0, 1.0, 0.0, 2.0, 0.0], [59.0, 1.0, 0.0, 164.0, 176.0, 1.0, 0.0, 90.0, 0.0, 1.0, 1.0, 2.0, 1.0, 0.0], [57.0, 0.0, 0.0, 140.0, 241.0, 0.0, 1.0, 123.0, 1.0, 0.2, 1.0, 0.0, 3.0, 0.0], [45.0, 1.0, 3.0, 110.0, 264.0, 0.0, 1.0, 132.0, 0.0, 1.2, 1.0, 0.0, 3.0, 0.0], [68.0, 1.0, 0.0, 144.0, 193.0, 1.0, 1.0, 141.0, 0.0, 3.4, 1.0, 2.0, 3.0, 0.0], [57.0, 1.0, 0.0, 130.0, 131.0, 0.0, 1.0, 115.0, 1.0, 1.2, 1.0, 1.0, 3.0, 0.0], [57.0, 0.0, 1.0, 130.0, 236.0, 0.0, 0.0, 174.0, 0.0, 0.0, 1.0, 1.0, 2.0, 0.0]], \"hoverlabel\": {\"namelength\": 0}, \"hovertemplate\": \"target=%{customdata[13]}<br>age=%{customdata[0]}<br>sex=%{customdata[1]}<br>cp=%{customdata[2]}<br>trestbps=%{customdata[3]}<br>chol=%{customdata[4]}<br>fbs=%{customdata[5]}<br>restecg=%{customdata[6]}<br>thalach=%{customdata[7]}<br>exang=%{customdata[8]}<br>oldpeak=%{customdata[9]}<br>slope=%{customdata[10]}<br>ca=%{customdata[11]}<br>thal=%{customdata[12]}\", \"legendgroup\": \"target=0\", \"marker\": {\"color\": \"#EF553B\"}, \"name\": \"target=0\", \"notched\": true, \"offsetgroup\": \"target=0\", \"showlegend\": false, \"type\": \"box\", \"x\": [67, 67, 62, 63, 53, 56, 48, 58, 58, 60, 40, 60, 64, 43, 57, 55, 65, 61, 58, 50, 44, 60, 54, 50, 41, 51, 58, 54, 60, 60, 59, 46, 67, 62, 65, 44, 60, 58, 68, 62, 52, 59, 60, 49, 59, 57, 61, 39, 61, 56, 43, 62, 63, 65, 48, 63, 55, 65, 56, 54, 70, 62, 35, 59, 64, 47, 57, 55, 64, 70, 51, 58, 60, 77, 35, 70, 59, 64, 57, 56, 48, 56, 66, 54, 69, 51, 43, 62, 67, 59, 45, 58, 50, 62, 38, 66, 52, 53, 63, 54, 66, 55, 49, 54, 56, 46, 61, 67, 58, 47, 52, 58, 57, 58, 61, 42, 52, 59, 40, 61, 46, 59, 57, 57, 55, 61, 58, 58, 67, 44, 63, 63, 59, 57, 45, 68, 57, 57], \"xaxis\": \"x2\", \"yaxis\": \"y2\"}],\n",
              "                        {\"barmode\": \"relative\", \"legend\": {\"tracegroupgap\": 0}, \"margin\": {\"t\": 60}, \"template\": {\"data\": {\"bar\": [{\"error_x\": {\"color\": \"#2a3f5f\"}, \"error_y\": {\"color\": \"#2a3f5f\"}, \"marker\": {\"line\": {\"color\": \"#E5ECF6\", \"width\": 0.5}}, \"type\": \"bar\"}], \"barpolar\": [{\"marker\": {\"line\": {\"color\": \"#E5ECF6\", \"width\": 0.5}}, \"type\": \"barpolar\"}], \"carpet\": [{\"aaxis\": {\"endlinecolor\": \"#2a3f5f\", \"gridcolor\": \"white\", \"linecolor\": \"white\", \"minorgridcolor\": \"white\", \"startlinecolor\": \"#2a3f5f\"}, \"baxis\": {\"endlinecolor\": \"#2a3f5f\", \"gridcolor\": \"white\", \"linecolor\": \"white\", \"minorgridcolor\": \"white\", \"startlinecolor\": \"#2a3f5f\"}, \"type\": \"carpet\"}], \"choropleth\": [{\"colorbar\": {\"outlinewidth\": 0, \"ticks\": \"\"}, \"type\": \"choropleth\"}], \"contour\": [{\"colorbar\": {\"outlinewidth\": 0, \"ticks\": \"\"}, \"colorscale\": [[0.0, \"#0d0887\"], [0.1111111111111111, \"#46039f\"], [0.2222222222222222, \"#7201a8\"], [0.3333333333333333, \"#9c179e\"], [0.4444444444444444, \"#bd3786\"], [0.5555555555555556, \"#d8576b\"], [0.6666666666666666, \"#ed7953\"], [0.7777777777777778, \"#fb9f3a\"], [0.8888888888888888, \"#fdca26\"], [1.0, \"#f0f921\"]], \"type\": \"contour\"}], \"contourcarpet\": [{\"colorbar\": {\"outlinewidth\": 0, \"ticks\": \"\"}, \"type\": \"contourcarpet\"}], \"heatmap\": [{\"colorbar\": {\"outlinewidth\": 0, \"ticks\": \"\"}, \"colorscale\": [[0.0, \"#0d0887\"], [0.1111111111111111, \"#46039f\"], [0.2222222222222222, \"#7201a8\"], [0.3333333333333333, \"#9c179e\"], [0.4444444444444444, \"#bd3786\"], [0.5555555555555556, \"#d8576b\"], [0.6666666666666666, \"#ed7953\"], [0.7777777777777778, \"#fb9f3a\"], [0.8888888888888888, \"#fdca26\"], [1.0, \"#f0f921\"]], \"type\": \"heatmap\"}], \"heatmapgl\": [{\"colorbar\": {\"outlinewidth\": 0, \"ticks\": \"\"}, \"colorscale\": [[0.0, \"#0d0887\"], [0.1111111111111111, \"#46039f\"], [0.2222222222222222, \"#7201a8\"], [0.3333333333333333, \"#9c179e\"], [0.4444444444444444, \"#bd3786\"], [0.5555555555555556, \"#d8576b\"], [0.6666666666666666, \"#ed7953\"], [0.7777777777777778, \"#fb9f3a\"], [0.8888888888888888, \"#fdca26\"], [1.0, \"#f0f921\"]], \"type\": \"heatmapgl\"}], \"histogram\": [{\"marker\": {\"colorbar\": {\"outlinewidth\": 0, \"ticks\": \"\"}}, \"type\": \"histogram\"}], \"histogram2d\": [{\"colorbar\": {\"outlinewidth\": 0, \"ticks\": \"\"}, \"colorscale\": [[0.0, \"#0d0887\"], [0.1111111111111111, \"#46039f\"], [0.2222222222222222, \"#7201a8\"], [0.3333333333333333, \"#9c179e\"], [0.4444444444444444, \"#bd3786\"], [0.5555555555555556, \"#d8576b\"], [0.6666666666666666, \"#ed7953\"], [0.7777777777777778, \"#fb9f3a\"], [0.8888888888888888, \"#fdca26\"], [1.0, \"#f0f921\"]], \"type\": \"histogram2d\"}], \"histogram2dcontour\": [{\"colorbar\": {\"outlinewidth\": 0, \"ticks\": \"\"}, \"colorscale\": [[0.0, \"#0d0887\"], [0.1111111111111111, \"#46039f\"], [0.2222222222222222, \"#7201a8\"], [0.3333333333333333, \"#9c179e\"], [0.4444444444444444, \"#bd3786\"], [0.5555555555555556, \"#d8576b\"], [0.6666666666666666, \"#ed7953\"], [0.7777777777777778, \"#fb9f3a\"], [0.8888888888888888, \"#fdca26\"], [1.0, \"#f0f921\"]], \"type\": \"histogram2dcontour\"}], \"mesh3d\": [{\"colorbar\": {\"outlinewidth\": 0, \"ticks\": \"\"}, \"type\": \"mesh3d\"}], \"parcoords\": [{\"line\": {\"colorbar\": {\"outlinewidth\": 0, \"ticks\": \"\"}}, \"type\": \"parcoords\"}], \"pie\": [{\"automargin\": true, \"type\": \"pie\"}], \"scatter\": [{\"marker\": {\"colorbar\": {\"outlinewidth\": 0, \"ticks\": \"\"}}, \"type\": \"scatter\"}], \"scatter3d\": [{\"line\": {\"colorbar\": {\"outlinewidth\": 0, \"ticks\": \"\"}}, \"marker\": {\"colorbar\": {\"outlinewidth\": 0, \"ticks\": \"\"}}, \"type\": \"scatter3d\"}], \"scattercarpet\": [{\"marker\": {\"colorbar\": {\"outlinewidth\": 0, \"ticks\": \"\"}}, \"type\": \"scattercarpet\"}], \"scattergeo\": [{\"marker\": {\"colorbar\": {\"outlinewidth\": 0, \"ticks\": \"\"}}, \"type\": \"scattergeo\"}], \"scattergl\": [{\"marker\": {\"colorbar\": {\"outlinewidth\": 0, \"ticks\": \"\"}}, \"type\": \"scattergl\"}], \"scattermapbox\": [{\"marker\": {\"colorbar\": {\"outlinewidth\": 0, \"ticks\": \"\"}}, \"type\": \"scattermapbox\"}], \"scatterpolar\": [{\"marker\": {\"colorbar\": {\"outlinewidth\": 0, \"ticks\": \"\"}}, \"type\": \"scatterpolar\"}], \"scatterpolargl\": [{\"marker\": {\"colorbar\": {\"outlinewidth\": 0, \"ticks\": \"\"}}, \"type\": \"scatterpolargl\"}], \"scatterternary\": [{\"marker\": {\"colorbar\": {\"outlinewidth\": 0, \"ticks\": \"\"}}, \"type\": \"scatterternary\"}], \"surface\": [{\"colorbar\": {\"outlinewidth\": 0, \"ticks\": \"\"}, \"colorscale\": [[0.0, \"#0d0887\"], [0.1111111111111111, \"#46039f\"], [0.2222222222222222, \"#7201a8\"], [0.3333333333333333, \"#9c179e\"], [0.4444444444444444, \"#bd3786\"], [0.5555555555555556, \"#d8576b\"], [0.6666666666666666, \"#ed7953\"], [0.7777777777777778, \"#fb9f3a\"], [0.8888888888888888, \"#fdca26\"], [1.0, \"#f0f921\"]], \"type\": \"surface\"}], \"table\": [{\"cells\": {\"fill\": {\"color\": \"#EBF0F8\"}, \"line\": {\"color\": \"white\"}}, \"header\": {\"fill\": {\"color\": \"#C8D4E3\"}, \"line\": {\"color\": \"white\"}}, \"type\": \"table\"}]}, \"layout\": {\"annotationdefaults\": {\"arrowcolor\": \"#2a3f5f\", \"arrowhead\": 0, \"arrowwidth\": 1}, \"coloraxis\": {\"colorbar\": {\"outlinewidth\": 0, \"ticks\": \"\"}}, \"colorscale\": {\"diverging\": [[0, \"#8e0152\"], [0.1, \"#c51b7d\"], [0.2, \"#de77ae\"], [0.3, \"#f1b6da\"], [0.4, \"#fde0ef\"], [0.5, \"#f7f7f7\"], [0.6, \"#e6f5d0\"], [0.7, \"#b8e186\"], [0.8, \"#7fbc41\"], [0.9, \"#4d9221\"], [1, \"#276419\"]], \"sequential\": [[0.0, \"#0d0887\"], [0.1111111111111111, \"#46039f\"], [0.2222222222222222, \"#7201a8\"], [0.3333333333333333, \"#9c179e\"], [0.4444444444444444, \"#bd3786\"], [0.5555555555555556, \"#d8576b\"], [0.6666666666666666, \"#ed7953\"], [0.7777777777777778, \"#fb9f3a\"], [0.8888888888888888, \"#fdca26\"], [1.0, \"#f0f921\"]], \"sequentialminus\": [[0.0, \"#0d0887\"], [0.1111111111111111, \"#46039f\"], [0.2222222222222222, \"#7201a8\"], [0.3333333333333333, \"#9c179e\"], [0.4444444444444444, \"#bd3786\"], [0.5555555555555556, \"#d8576b\"], [0.6666666666666666, \"#ed7953\"], [0.7777777777777778, \"#fb9f3a\"], [0.8888888888888888, \"#fdca26\"], [1.0, \"#f0f921\"]]}, \"colorway\": [\"#636efa\", \"#EF553B\", \"#00cc96\", \"#ab63fa\", \"#FFA15A\", \"#19d3f3\", \"#FF6692\", \"#B6E880\", \"#FF97FF\", \"#FECB52\"], \"font\": {\"color\": \"#2a3f5f\"}, \"geo\": {\"bgcolor\": \"white\", \"lakecolor\": \"white\", \"landcolor\": \"#E5ECF6\", \"showlakes\": true, \"showland\": true, \"subunitcolor\": \"white\"}, \"hoverlabel\": {\"align\": \"left\"}, \"hovermode\": \"closest\", \"mapbox\": {\"style\": \"light\"}, \"paper_bgcolor\": \"white\", \"plot_bgcolor\": \"#E5ECF6\", \"polar\": {\"angularaxis\": {\"gridcolor\": \"white\", \"linecolor\": \"white\", \"ticks\": \"\"}, \"bgcolor\": \"#E5ECF6\", \"radialaxis\": {\"gridcolor\": \"white\", \"linecolor\": \"white\", \"ticks\": \"\"}}, \"scene\": {\"xaxis\": {\"backgroundcolor\": \"#E5ECF6\", \"gridcolor\": \"white\", \"gridwidth\": 2, \"linecolor\": \"white\", \"showbackground\": true, \"ticks\": \"\", \"zerolinecolor\": \"white\"}, \"yaxis\": {\"backgroundcolor\": \"#E5ECF6\", \"gridcolor\": \"white\", \"gridwidth\": 2, \"linecolor\": \"white\", \"showbackground\": true, \"ticks\": \"\", \"zerolinecolor\": \"white\"}, \"zaxis\": {\"backgroundcolor\": \"#E5ECF6\", \"gridcolor\": \"white\", \"gridwidth\": 2, \"linecolor\": \"white\", \"showbackground\": true, \"ticks\": \"\", \"zerolinecolor\": \"white\"}}, \"shapedefaults\": {\"line\": {\"color\": \"#2a3f5f\"}}, \"ternary\": {\"aaxis\": {\"gridcolor\": \"white\", \"linecolor\": \"white\", \"ticks\": \"\"}, \"baxis\": {\"gridcolor\": \"white\", \"linecolor\": \"white\", \"ticks\": \"\"}, \"bgcolor\": \"#E5ECF6\", \"caxis\": {\"gridcolor\": \"white\", \"linecolor\": \"white\", \"ticks\": \"\"}}, \"title\": {\"x\": 0.05}, \"xaxis\": {\"automargin\": true, \"gridcolor\": \"white\", \"linecolor\": \"white\", \"ticks\": \"\", \"title\": {\"standoff\": 15}, \"zerolinecolor\": \"white\", \"zerolinewidth\": 2}, \"yaxis\": {\"automargin\": true, \"gridcolor\": \"white\", \"linecolor\": \"white\", \"ticks\": \"\", \"title\": {\"standoff\": 15}, \"zerolinecolor\": \"white\", \"zerolinewidth\": 2}}}, \"xaxis\": {\"anchor\": \"y\", \"domain\": [0.0, 1.0], \"title\": {\"text\": \"age\"}}, \"xaxis2\": {\"anchor\": \"y2\", \"domain\": [0.0, 1.0], \"matches\": \"x\", \"showgrid\": true, \"showticklabels\": false}, \"yaxis\": {\"anchor\": \"x\", \"domain\": [0.0, 0.7326], \"title\": {\"text\": \"count\"}}, \"yaxis2\": {\"anchor\": \"x2\", \"domain\": [0.7426, 1.0], \"matches\": \"y2\", \"showgrid\": false, \"showline\": false, \"showticklabels\": false, \"ticks\": \"\"}},\n",
              "                        {\"responsive\": true}\n",
              "                    ).then(function(){\n",
              "                            \n",
              "var gd = document.getElementById('ca6cabbc-4c47-4d4f-8ff0-039445dd481a');\n",
              "var x = new MutationObserver(function (mutations, observer) {{\n",
              "        var display = window.getComputedStyle(gd).display;\n",
              "        if (!display || display === 'none') {{\n",
              "            console.log([gd, 'removed!']);\n",
              "            Plotly.purge(gd);\n",
              "            observer.disconnect();\n",
              "        }}\n",
              "}});\n",
              "\n",
              "// Listen for the removal of the full notebook cells\n",
              "var notebookContainer = gd.closest('#notebook-container');\n",
              "if (notebookContainer) {{\n",
              "    x.observe(notebookContainer, {childList: true});\n",
              "}}\n",
              "\n",
              "// Listen for the clearing of the current output cell\n",
              "var outputEl = gd.closest('.output');\n",
              "if (outputEl) {{\n",
              "    x.observe(outputEl, {childList: true});\n",
              "}}\n",
              "\n",
              "                        })\n",
              "                };\n",
              "                \n",
              "            </script>\n",
              "        </div>\n",
              "</body>\n",
              "</html>"
            ]
          },
          "metadata": {}
        }
      ]
    },
    {
      "cell_type": "code",
      "metadata": {
        "colab": {
          "base_uri": "https://localhost:8080/",
          "height": 542
        },
        "id": "gyOdZ9lF9zEC",
        "outputId": "e6c90d18-d3e4-4749-96cc-2efb80ce1f11"
      },
      "source": [
        "px.pie(df, names='sex',\n",
        "       hole=.6,\n",
        "       )"
      ],
      "execution_count": 28,
      "outputs": [
        {
          "output_type": "display_data",
          "data": {
            "text/html": [
              "<html>\n",
              "<head><meta charset=\"utf-8\" /></head>\n",
              "<body>\n",
              "    <div>\n",
              "            <script src=\"https://cdnjs.cloudflare.com/ajax/libs/mathjax/2.7.5/MathJax.js?config=TeX-AMS-MML_SVG\"></script><script type=\"text/javascript\">if (window.MathJax) {MathJax.Hub.Config({SVG: {font: \"STIX-Web\"}});}</script>\n",
              "                <script type=\"text/javascript\">window.PlotlyConfig = {MathJaxConfig: 'local'};</script>\n",
              "        <script src=\"https://cdn.plot.ly/plotly-latest.min.js\"></script>    \n",
              "            <div id=\"60de5f0a-4abb-4c6d-9dc4-06a45bccb1ff\" class=\"plotly-graph-div\" style=\"height:525px; width:100%;\"></div>\n",
              "            <script type=\"text/javascript\">\n",
              "                \n",
              "                    window.PLOTLYENV=window.PLOTLYENV || {};\n",
              "                    \n",
              "                if (document.getElementById(\"60de5f0a-4abb-4c6d-9dc4-06a45bccb1ff\")) {\n",
              "                    Plotly.newPlot(\n",
              "                        '60de5f0a-4abb-4c6d-9dc4-06a45bccb1ff',\n",
              "                        [{\"domain\": {\"x\": [0.0, 1.0], \"y\": [0.0, 1.0]}, \"hole\": 0.6, \"hoverlabel\": {\"namelength\": 0}, \"hovertemplate\": \"sex=%{label}\", \"labels\": [1, 1, 0, 1, 0, 1, 0, 1, 1, 1, 1, 0, 1, 1, 0, 0, 0, 0, 1, 0, 1, 1, 1, 1, 1, 0, 1, 1, 0, 1, 0, 1, 1, 1, 1, 0, 0, 1, 0, 0, 0, 1, 1, 0, 1, 1, 1, 1, 0, 0, 0, 1, 1, 0, 0, 1, 1, 1, 1, 0, 0, 1, 1, 1, 1, 0, 1, 0, 1, 0, 1, 1, 1, 1, 0, 0, 1, 1, 1, 1, 1, 1, 0, 1, 0, 0, 1, 1, 0, 0, 1, 1, 1, 0, 0, 1, 0, 1, 1, 1, 1, 1, 0, 1, 1, 0, 1, 0, 0, 0, 0, 1, 0, 1, 1, 0, 1, 1, 0, 0, 0, 1, 0, 0, 0, 0, 1, 0, 0, 0, 0, 0, 1, 1, 0, 0, 0, 1, 1, 1, 0, 1, 0, 0, 0, 1, 0, 0, 1, 1, 1, 0, 1, 0, 0, 0, 1, 1, 1, 1, 1, 0, 1, 1, 1, 1, 1, 0, 1, 1, 1, 1, 1, 1, 1, 1, 1, 1, 1, 1, 1, 0, 0, 1, 1, 1, 1, 1, 1, 1, 0, 1, 1, 1, 1, 1, 1, 1, 1, 1, 1, 1, 1, 1, 0, 1, 1, 0, 1, 1, 1, 1, 1, 0, 1, 0, 0, 1, 1, 1, 0, 1, 1, 0, 1, 1, 1, 1, 1, 1, 1, 1, 1, 1, 1, 1, 1, 1, 1, 1, 1, 0, 1, 1, 1, 1, 0, 1, 1, 1, 1, 1, 0, 1, 1, 1, 1, 1, 0, 1, 0, 1, 1, 0, 1, 1, 0, 1, 1, 1, 1, 1, 1, 1, 1, 1, 1, 1, 0, 1, 1, 1, 1, 1, 1, 1, 1, 1, 1, 0, 1, 1, 0, 1, 1, 1, 0, 1, 0, 1, 1, 1, 0], \"legendgroup\": \"\", \"name\": \"\", \"showlegend\": true, \"type\": \"pie\"}],\n",
              "                        {\"legend\": {\"tracegroupgap\": 0}, \"margin\": {\"t\": 60}, \"template\": {\"data\": {\"bar\": [{\"error_x\": {\"color\": \"#2a3f5f\"}, \"error_y\": {\"color\": \"#2a3f5f\"}, \"marker\": {\"line\": {\"color\": \"#E5ECF6\", \"width\": 0.5}}, \"type\": \"bar\"}], \"barpolar\": [{\"marker\": {\"line\": {\"color\": \"#E5ECF6\", \"width\": 0.5}}, \"type\": \"barpolar\"}], \"carpet\": [{\"aaxis\": {\"endlinecolor\": \"#2a3f5f\", \"gridcolor\": \"white\", \"linecolor\": \"white\", \"minorgridcolor\": \"white\", \"startlinecolor\": \"#2a3f5f\"}, \"baxis\": {\"endlinecolor\": \"#2a3f5f\", \"gridcolor\": \"white\", \"linecolor\": \"white\", \"minorgridcolor\": \"white\", \"startlinecolor\": \"#2a3f5f\"}, \"type\": \"carpet\"}], \"choropleth\": [{\"colorbar\": {\"outlinewidth\": 0, \"ticks\": \"\"}, \"type\": \"choropleth\"}], \"contour\": [{\"colorbar\": {\"outlinewidth\": 0, \"ticks\": \"\"}, \"colorscale\": [[0.0, \"#0d0887\"], [0.1111111111111111, \"#46039f\"], [0.2222222222222222, \"#7201a8\"], [0.3333333333333333, \"#9c179e\"], [0.4444444444444444, \"#bd3786\"], [0.5555555555555556, \"#d8576b\"], [0.6666666666666666, \"#ed7953\"], [0.7777777777777778, \"#fb9f3a\"], [0.8888888888888888, \"#fdca26\"], [1.0, \"#f0f921\"]], \"type\": \"contour\"}], \"contourcarpet\": [{\"colorbar\": {\"outlinewidth\": 0, \"ticks\": \"\"}, \"type\": \"contourcarpet\"}], \"heatmap\": [{\"colorbar\": {\"outlinewidth\": 0, \"ticks\": \"\"}, \"colorscale\": [[0.0, \"#0d0887\"], [0.1111111111111111, \"#46039f\"], [0.2222222222222222, \"#7201a8\"], [0.3333333333333333, \"#9c179e\"], [0.4444444444444444, \"#bd3786\"], [0.5555555555555556, \"#d8576b\"], [0.6666666666666666, \"#ed7953\"], [0.7777777777777778, \"#fb9f3a\"], [0.8888888888888888, \"#fdca26\"], [1.0, \"#f0f921\"]], \"type\": \"heatmap\"}], \"heatmapgl\": [{\"colorbar\": {\"outlinewidth\": 0, \"ticks\": \"\"}, \"colorscale\": [[0.0, \"#0d0887\"], [0.1111111111111111, \"#46039f\"], [0.2222222222222222, \"#7201a8\"], [0.3333333333333333, \"#9c179e\"], [0.4444444444444444, \"#bd3786\"], [0.5555555555555556, \"#d8576b\"], [0.6666666666666666, \"#ed7953\"], [0.7777777777777778, \"#fb9f3a\"], [0.8888888888888888, \"#fdca26\"], [1.0, \"#f0f921\"]], \"type\": \"heatmapgl\"}], \"histogram\": [{\"marker\": {\"colorbar\": {\"outlinewidth\": 0, \"ticks\": \"\"}}, \"type\": \"histogram\"}], \"histogram2d\": [{\"colorbar\": {\"outlinewidth\": 0, \"ticks\": \"\"}, \"colorscale\": [[0.0, \"#0d0887\"], [0.1111111111111111, \"#46039f\"], [0.2222222222222222, \"#7201a8\"], [0.3333333333333333, \"#9c179e\"], [0.4444444444444444, \"#bd3786\"], [0.5555555555555556, \"#d8576b\"], [0.6666666666666666, \"#ed7953\"], [0.7777777777777778, \"#fb9f3a\"], [0.8888888888888888, \"#fdca26\"], [1.0, \"#f0f921\"]], \"type\": \"histogram2d\"}], \"histogram2dcontour\": [{\"colorbar\": {\"outlinewidth\": 0, \"ticks\": \"\"}, \"colorscale\": [[0.0, \"#0d0887\"], [0.1111111111111111, \"#46039f\"], [0.2222222222222222, \"#7201a8\"], [0.3333333333333333, \"#9c179e\"], [0.4444444444444444, \"#bd3786\"], [0.5555555555555556, \"#d8576b\"], [0.6666666666666666, \"#ed7953\"], [0.7777777777777778, \"#fb9f3a\"], [0.8888888888888888, \"#fdca26\"], [1.0, \"#f0f921\"]], \"type\": \"histogram2dcontour\"}], \"mesh3d\": [{\"colorbar\": {\"outlinewidth\": 0, \"ticks\": \"\"}, \"type\": \"mesh3d\"}], \"parcoords\": [{\"line\": {\"colorbar\": {\"outlinewidth\": 0, \"ticks\": \"\"}}, \"type\": \"parcoords\"}], \"pie\": [{\"automargin\": true, \"type\": \"pie\"}], \"scatter\": [{\"marker\": {\"colorbar\": {\"outlinewidth\": 0, \"ticks\": \"\"}}, \"type\": \"scatter\"}], \"scatter3d\": [{\"line\": {\"colorbar\": {\"outlinewidth\": 0, \"ticks\": \"\"}}, \"marker\": {\"colorbar\": {\"outlinewidth\": 0, \"ticks\": \"\"}}, \"type\": \"scatter3d\"}], \"scattercarpet\": [{\"marker\": {\"colorbar\": {\"outlinewidth\": 0, \"ticks\": \"\"}}, \"type\": \"scattercarpet\"}], \"scattergeo\": [{\"marker\": {\"colorbar\": {\"outlinewidth\": 0, \"ticks\": \"\"}}, \"type\": \"scattergeo\"}], \"scattergl\": [{\"marker\": {\"colorbar\": {\"outlinewidth\": 0, \"ticks\": \"\"}}, \"type\": \"scattergl\"}], \"scattermapbox\": [{\"marker\": {\"colorbar\": {\"outlinewidth\": 0, \"ticks\": \"\"}}, \"type\": \"scattermapbox\"}], \"scatterpolar\": [{\"marker\": {\"colorbar\": {\"outlinewidth\": 0, \"ticks\": \"\"}}, \"type\": \"scatterpolar\"}], \"scatterpolargl\": [{\"marker\": {\"colorbar\": {\"outlinewidth\": 0, \"ticks\": \"\"}}, \"type\": \"scatterpolargl\"}], \"scatterternary\": [{\"marker\": {\"colorbar\": {\"outlinewidth\": 0, \"ticks\": \"\"}}, \"type\": \"scatterternary\"}], \"surface\": [{\"colorbar\": {\"outlinewidth\": 0, \"ticks\": \"\"}, \"colorscale\": [[0.0, \"#0d0887\"], [0.1111111111111111, \"#46039f\"], [0.2222222222222222, \"#7201a8\"], [0.3333333333333333, \"#9c179e\"], [0.4444444444444444, \"#bd3786\"], [0.5555555555555556, \"#d8576b\"], [0.6666666666666666, \"#ed7953\"], [0.7777777777777778, \"#fb9f3a\"], [0.8888888888888888, \"#fdca26\"], [1.0, \"#f0f921\"]], \"type\": \"surface\"}], \"table\": [{\"cells\": {\"fill\": {\"color\": \"#EBF0F8\"}, \"line\": {\"color\": \"white\"}}, \"header\": {\"fill\": {\"color\": \"#C8D4E3\"}, \"line\": {\"color\": \"white\"}}, \"type\": \"table\"}]}, \"layout\": {\"annotationdefaults\": {\"arrowcolor\": \"#2a3f5f\", \"arrowhead\": 0, \"arrowwidth\": 1}, \"coloraxis\": {\"colorbar\": {\"outlinewidth\": 0, \"ticks\": \"\"}}, \"colorscale\": {\"diverging\": [[0, \"#8e0152\"], [0.1, \"#c51b7d\"], [0.2, \"#de77ae\"], [0.3, \"#f1b6da\"], [0.4, \"#fde0ef\"], [0.5, \"#f7f7f7\"], [0.6, \"#e6f5d0\"], [0.7, \"#b8e186\"], [0.8, \"#7fbc41\"], [0.9, \"#4d9221\"], [1, \"#276419\"]], \"sequential\": [[0.0, \"#0d0887\"], [0.1111111111111111, \"#46039f\"], [0.2222222222222222, \"#7201a8\"], [0.3333333333333333, \"#9c179e\"], [0.4444444444444444, \"#bd3786\"], [0.5555555555555556, \"#d8576b\"], [0.6666666666666666, \"#ed7953\"], [0.7777777777777778, \"#fb9f3a\"], [0.8888888888888888, \"#fdca26\"], [1.0, \"#f0f921\"]], \"sequentialminus\": [[0.0, \"#0d0887\"], [0.1111111111111111, \"#46039f\"], [0.2222222222222222, \"#7201a8\"], [0.3333333333333333, \"#9c179e\"], [0.4444444444444444, \"#bd3786\"], [0.5555555555555556, \"#d8576b\"], [0.6666666666666666, \"#ed7953\"], [0.7777777777777778, \"#fb9f3a\"], [0.8888888888888888, \"#fdca26\"], [1.0, \"#f0f921\"]]}, \"colorway\": [\"#636efa\", \"#EF553B\", \"#00cc96\", \"#ab63fa\", \"#FFA15A\", \"#19d3f3\", \"#FF6692\", \"#B6E880\", \"#FF97FF\", \"#FECB52\"], \"font\": {\"color\": \"#2a3f5f\"}, \"geo\": {\"bgcolor\": \"white\", \"lakecolor\": \"white\", \"landcolor\": \"#E5ECF6\", \"showlakes\": true, \"showland\": true, \"subunitcolor\": \"white\"}, \"hoverlabel\": {\"align\": \"left\"}, \"hovermode\": \"closest\", \"mapbox\": {\"style\": \"light\"}, \"paper_bgcolor\": \"white\", \"plot_bgcolor\": \"#E5ECF6\", \"polar\": {\"angularaxis\": {\"gridcolor\": \"white\", \"linecolor\": \"white\", \"ticks\": \"\"}, \"bgcolor\": \"#E5ECF6\", \"radialaxis\": {\"gridcolor\": \"white\", \"linecolor\": \"white\", \"ticks\": \"\"}}, \"scene\": {\"xaxis\": {\"backgroundcolor\": \"#E5ECF6\", \"gridcolor\": \"white\", \"gridwidth\": 2, \"linecolor\": \"white\", \"showbackground\": true, \"ticks\": \"\", \"zerolinecolor\": \"white\"}, \"yaxis\": {\"backgroundcolor\": \"#E5ECF6\", \"gridcolor\": \"white\", \"gridwidth\": 2, \"linecolor\": \"white\", \"showbackground\": true, \"ticks\": \"\", \"zerolinecolor\": \"white\"}, \"zaxis\": {\"backgroundcolor\": \"#E5ECF6\", \"gridcolor\": \"white\", \"gridwidth\": 2, \"linecolor\": \"white\", \"showbackground\": true, \"ticks\": \"\", \"zerolinecolor\": \"white\"}}, \"shapedefaults\": {\"line\": {\"color\": \"#2a3f5f\"}}, \"ternary\": {\"aaxis\": {\"gridcolor\": \"white\", \"linecolor\": \"white\", \"ticks\": \"\"}, \"baxis\": {\"gridcolor\": \"white\", \"linecolor\": \"white\", \"ticks\": \"\"}, \"bgcolor\": \"#E5ECF6\", \"caxis\": {\"gridcolor\": \"white\", \"linecolor\": \"white\", \"ticks\": \"\"}}, \"title\": {\"x\": 0.05}, \"xaxis\": {\"automargin\": true, \"gridcolor\": \"white\", \"linecolor\": \"white\", \"ticks\": \"\", \"title\": {\"standoff\": 15}, \"zerolinecolor\": \"white\", \"zerolinewidth\": 2}, \"yaxis\": {\"automargin\": true, \"gridcolor\": \"white\", \"linecolor\": \"white\", \"ticks\": \"\", \"title\": {\"standoff\": 15}, \"zerolinecolor\": \"white\", \"zerolinewidth\": 2}}}},\n",
              "                        {\"responsive\": true}\n",
              "                    ).then(function(){\n",
              "                            \n",
              "var gd = document.getElementById('60de5f0a-4abb-4c6d-9dc4-06a45bccb1ff');\n",
              "var x = new MutationObserver(function (mutations, observer) {{\n",
              "        var display = window.getComputedStyle(gd).display;\n",
              "        if (!display || display === 'none') {{\n",
              "            console.log([gd, 'removed!']);\n",
              "            Plotly.purge(gd);\n",
              "            observer.disconnect();\n",
              "        }}\n",
              "}});\n",
              "\n",
              "// Listen for the removal of the full notebook cells\n",
              "var notebookContainer = gd.closest('#notebook-container');\n",
              "if (notebookContainer) {{\n",
              "    x.observe(notebookContainer, {childList: true});\n",
              "}}\n",
              "\n",
              "// Listen for the clearing of the current output cell\n",
              "var outputEl = gd.closest('.output');\n",
              "if (outputEl) {{\n",
              "    x.observe(outputEl, {childList: true});\n",
              "}}\n",
              "\n",
              "                        })\n",
              "                };\n",
              "                \n",
              "            </script>\n",
              "        </div>\n",
              "</body>\n",
              "</html>"
            ]
          },
          "metadata": {}
        }
      ]
    },
    {
      "cell_type": "code",
      "metadata": {
        "colab": {
          "base_uri": "https://localhost:8080/"
        },
        "id": "RIFWQaNQ-TvX",
        "outputId": "59110039-14db-4cc3-8401-5791a379efd5"
      },
      "source": [
        "df_sex = df.groupby([\"sex\",\"target\"]).size()\n",
        "df_sex"
      ],
      "execution_count": 31,
      "outputs": [
        {
          "output_type": "execute_result",
          "data": {
            "text/plain": [
              "sex  target\n",
              "0    0          24\n",
              "     1          72\n",
              "1    0         114\n",
              "     1          93\n",
              "dtype: int64"
            ]
          },
          "metadata": {},
          "execution_count": 31
        }
      ]
    },
    {
      "cell_type": "code",
      "metadata": {
        "colab": {
          "base_uri": "https://localhost:8080/",
          "height": 307
        },
        "id": "wo38Jff4_TNy",
        "outputId": "50bb039e-8683-468c-cbe5-ecdff4968682"
      },
      "source": [
        "plt.pie(df_sex.values, labels = [\"sex_0,target_0\", \"sex_0,target_1\", \"sex_1,target_0\", \"sex_1,target_1\"],autopct='%1.1f%%',radius = 1.5, textprops = {\"fontsize\" : 16})\n",
        "plt.show()"
      ],
      "execution_count": 32,
      "outputs": [
        {
          "output_type": "display_data",
          "data": {
            "image/png": "[encoded data removed]",
            "text/plain": [
              "<Figure size 432x288 with 1 Axes>"
            ]
          },
          "metadata": {}
        }
      ]
    },
    {
      "cell_type": "code",
      "metadata": {
        "id": "lK9hH15wAh5p"
      },
      "source": [
        "from sklearn.model_selection import train_test_split\n",
        "from sklearn.metrics import classification_report,accuracy_score\n",
        "\n",
        "Y = df['target']\n",
        "X = df.drop('target',axis=1)\n",
        "x_train, x_validation, y_train, y_validation = train_test_split(X,Y,test_size=0.2,train_size=0.8,random_state=254,shuffle=True)"
      ],
      "execution_count": 57,
      "outputs": []
    },
    {
      "cell_type": "code",
      "metadata": {
        "id": "n0_wOzwwCupX"
      },
      "source": [
        "from sklearn.neural_network import MLPClassifier\n",
        "clf = MLPClassifier(solver='lbfgs', alpha=1e-08,hidden_layer_sizes=(60,),activation='logistic', random_state=(2),max_iter=10000)\n",
        "clf = clf.fit(x_train,y_train)\n",
        "predictCLF = clf.predict(x_validation)"
      ],
      "execution_count": 58,
      "outputs": []
    },
    {
      "cell_type": "code",
      "metadata": {
        "colab": {
          "base_uri": "https://localhost:8080/"
        },
        "id": "yM97g0KECzMt",
        "outputId": "6e645738-e5f6-4135-cc9b-eb150de3a7bf"
      },
      "source": [
        "print(classification_report(predictCLF,y_validation))"
      ],
      "execution_count": 59,
      "outputs": [
        {
          "output_type": "stream",
          "name": "stdout",
          "text": [
            "              precision    recall  f1-score   support\n",
            "\n",
            "           0       0.67      0.72      0.69        25\n",
            "           1       0.79      0.75      0.77        36\n",
            "\n",
            "    accuracy                           0.74        61\n",
            "   macro avg       0.73      0.73      0.73        61\n",
            "weighted avg       0.74      0.74      0.74        61\n",
            "\n"
          ]
        }
      ]
    },
    {
      "cell_type": "code",
      "metadata": {
        "colab": {
          "base_uri": "https://localhost:8080/"
        },
        "id": "g7s9RAJgDIST",
        "outputId": "f3c6581f-2133-4e56-bc20-af54930c8b69"
      },
      "source": [
        "acc_CLF=accuracy_score(predictCLF,y_validation)\n",
        "print(acc_CLF)"
      ],
      "execution_count": 60,
      "outputs": [
        {
          "output_type": "stream",
          "name": "stdout",
          "text": [
            "0.7377049180327869\n"
          ]
        }
      ]
    },
    {
      "cell_type": "code",
      "metadata": {
        "id": "DSGKKYhkDnDZ"
      },
      "source": [
        "from sklearn.linear_model import LogisticRegression"
      ],
      "execution_count": 61,
      "outputs": []
    },
    {
      "cell_type": "code",
      "metadata": {
        "id": "xNlbCUT8EdCJ"
      },
      "source": [
        "clf = LogisticRegression(random_state=0, max_iter = 2000).fit(x_train, y_train)"
      ],
      "execution_count": 74,
      "outputs": []
    },
    {
      "cell_type": "code",
      "metadata": {
        "colab": {
          "base_uri": "https://localhost:8080/"
        },
        "id": "hCAoZF1pEr6v",
        "outputId": "2832c1b4-b1c9-432f-8ec3-6bdf3702bc09"
      },
      "source": [
        "clf.score(x_validation, y_validation)"
      ],
      "execution_count": 75,
      "outputs": [
        {
          "output_type": "execute_result",
          "data": {
            "text/plain": [
              "0.8524590163934426"
            ]
          },
          "metadata": {},
          "execution_count": 75
        }
      ]
    },
    {
      "cell_type": "code",
      "metadata": {
        "id": "u8QD4BtsE7W0"
      },
      "source": [
        ""
      ],
      "execution_count": null,
      "outputs": []
    }
  ]
}